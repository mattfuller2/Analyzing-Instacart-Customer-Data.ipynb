{
 "cells": [
  {
   "cell_type": "markdown",
   "id": "b57ccc0f",
   "metadata": {},
   "source": [
    "<div style=\"border:solid green 2px; padding: 20px\">\n",
    "    \n",
    "<div class=\"alert alert-success\">\n",
    "<b>Review summary, review 3</b> \n",
    "    \n",
    "\n",
    "    \n",
    "Hello Matt. Thanks for prompt update. Now everything looks good. Your project is complete and approved.\n",
    "    \n",
    "Keep up thegood work and all the best to you with the next sprints."
   ]
  },
  {
   "cell_type": "markdown",
   "id": "05117811",
   "metadata": {},
   "source": [
    "<div style=\"border:solid green 2px; padding: 20px\">\n",
    "    \n",
    "<div class=\"alert alert-success\">\n",
    "<b>Review summary, review 2</b> \n",
    "    \n",
    "Hello Matt. Thanks for the quick update. You fixed most of the red comments.\n",
    "       \n",
    "    \n",
    "    \n",
    "<div class=\"alert alert-danger\">\n",
    "    \n",
    "\n",
    "    \n",
    "Only a few red ones remained. Could you please try to correct them and send the project back to me?\n",
    "\n",
    "</div>\n",
    "    \n",
    "    \n",
    "I'll be looking forward to getting your updated notebook."
   ]
  },
  {
   "cell_type": "markdown",
   "id": "74bc0acc",
   "metadata": {},
   "source": [
    "<div style=\"border:solid blue 2px; padding: 20px\">\n",
    "  \n",
    "**Hello Matt.**\n",
    "\n",
    "I'm happy to review your project today. \n",
    "\n",
    "You will find my comments in coloured cells marked as 'Reviewer's comment'. The cell colour will vary based on the contents - I am explaining it further below. \n",
    "\n",
    "**Note:** Please do not remove or change my comments - they will help me in my future reviews and will make the process smoother for both of us. \n",
    "\n",
    "<div class=\"alert alert-success\"; style=\"border-left: 7px solid green\">\n",
    "<b>✅ Reviewer's comment</b> \n",
    "    \n",
    "Such comment will mark efficient solutions and good ideas that can be used in other projects.\n",
    "</div>\n",
    "\n",
    "<div class=\"alert alert-warning\"; style=\"border-left: 7px solid gold\">\n",
    "<b>⚠️ Reviewer's comment</b> \n",
    "    \n",
    "The parts marked with yellow comments indicate that there is room for optimisation. Though the correction is not necessary it is good if you implement it.\n",
    "</div>\n",
    "\n",
    "<div class=\"alert alert-danger\"; style=\"border-left: 7px solid red\">\n",
    "<b>⛔️ Reviewer's comment</b> \n",
    "    \n",
    "If you see such a comment, it means that there is a problem that needs to be fixed. Please note that I won't be able to accept your project until the issue is resolved.\n",
    "</div>\n",
    "\n",
    "You are also very welcome to leave your comments / describe the corrections you've done / ask me questions, marking them with a different colour. You can use the example below: \n",
    "\n",
    "<div class=\"alert alert-info\"; style=\"border-left: 7px solid blue\">\n",
    "<b>Student's comment</b>"
   ]
  },
  {
   "cell_type": "markdown",
   "id": "f1d49207",
   "metadata": {},
   "source": [
    "<div style=\"border:solid green 2px; padding: 20px\">\n",
    "    \n",
    "<div class=\"alert alert-success\">\n",
    "<b>Review summary</b> \n",
    "    \n",
    "Matt, thanks for submitting the project. You've done a very good start on the project.\n",
    "    \n",
    "- You followed the project structure.\n",
    "- You studied the data thoroughly.\n",
    "- You treated the duplicated values very well.\n",
    "       \n",
    "    \n",
    "    \n",
    "<div class=\"alert alert-danger\">\n",
    "    \n",
    "\n",
    "    \n",
    "There are a few critical comments that need to be corrected. You will find them in the red-coloured cells in relevant sections. Could you please try to correct them and send the project back to me?\n",
    "\n",
    "</div>\n",
    "    \n",
    "You may also work on the yellow comments. If you have any questions please write them when you return your project. \n",
    "    \n",
    "I'll be looking forward to getting your updated notebook."
   ]
  },
  {
   "cell_type": "markdown",
   "id": "fa041a2d",
   "metadata": {},
   "source": [
    "# TITLE: Analyzing Instacart Customer Data\n",
    "\n",
    "In this project, we will be importing and cleaning data from Kaggle that Instacart uploaded in 2017. This cleaned data will be used to understand Instacart's customer behaviors of when they make purchases, how often they make purchases, what days of the week, and what products are being purchased."
   ]
  },
  {
   "cell_type": "markdown",
   "id": "bdbc4219",
   "metadata": {},
   "source": [
    "<div class=\"alert alert-success\"; style=\"border-left: 7px solid green\">\n",
    "<b>✅ Reviewer's comment, v. 3</b> \n",
    "    \n",
    "✔️ \n",
    "    \n",
    "\n",
    "\n",
    "<div class=\"alert alert-warning\"; style=\"border-left: 7px solid gold\">\n",
    "<b>⚠️ Reviewer's comment, v. 2</b> \n",
    "\n",
    "Please use Markdown type of cells for the comments and conclusions. In the code cells only a short comments for the code are made.\n",
    "    \n",
    "To change the cell type for Markdown please use the upper navigation bar - create a new cell with `+` button, step on it and change Raw to Markdown in the dropdown menu.\n",
    "    \n",
    "    \n",
    "<div class=\"alert alert-danger\"; style=\"border-left: 7px solid red\">\n",
    "<b>⛔️ Reviewer's comment, v. 1</b> \n",
    "\n",
    "\n",
    "    \n",
    "Title and introduction are required for every project. Could you please add them? And make sure you do not forget to include it in your further projects. \n",
    "    \n",
    "It is optimal if introduction consists of:\n",
    "    \n",
    "- brief description of the situation;\n",
    "- goal of the project;\n",
    "- description of the data we are going to use.\n",
    "</div>"
   ]
  },
  {
   "cell_type": "code",
   "execution_count": 8,
   "id": "ad36396d",
   "metadata": {},
   "outputs": [],
   "source": [
    "import pandas as pd\n",
    "from matplotlib import pyplot as plt"
   ]
  },
  {
   "cell_type": "code",
   "execution_count": 9,
   "id": "ad6a1efa",
   "metadata": {},
   "outputs": [
    {
     "name": "stdout",
     "output_type": "stream",
     "text": [
      "   order_id  user_id  order_number  order_dow  order_hour_of_day  \\\n",
      "0   1515936   183418            11          6                 13   \n",
      "1   1690866   163593             5          5                 12   \n",
      "2   1454967    39980             4          5                 19   \n",
      "3   1768857    82516            56          0                 20   \n",
      "4   3007858   196724             2          4                 12   \n",
      "\n",
      "   days_since_prior_order  \n",
      "0                    30.0  \n",
      "1                     9.0  \n",
      "2                     2.0  \n",
      "3                    10.0  \n",
      "4                    17.0  \n",
      "\n",
      "<class 'pandas.core.frame.DataFrame'>\n",
      "RangeIndex: 478967 entries, 0 to 478966\n",
      "Data columns (total 6 columns):\n",
      " #   Column                  Non-Null Count   Dtype  \n",
      "---  ------                  --------------   -----  \n",
      " 0   order_id                478967 non-null  int64  \n",
      " 1   user_id                 478967 non-null  int64  \n",
      " 2   order_number            478967 non-null  int64  \n",
      " 3   order_dow               478967 non-null  int64  \n",
      " 4   order_hour_of_day       478967 non-null  int64  \n",
      " 5   days_since_prior_order  450148 non-null  float64\n",
      "dtypes: float64(1), int64(5)\n",
      "memory usage: 21.9 MB\n"
     ]
    }
   ],
   "source": [
    "df_orders = pd.read_csv('/datasets/instacart_orders.csv', sep=';')\n",
    "print(df_orders.head())\n",
    "print()\n",
    "df_orders.info()"
   ]
  },
  {
   "cell_type": "code",
   "execution_count": 10,
   "id": "5130e05e",
   "metadata": {},
   "outputs": [
    {
     "name": "stdout",
     "output_type": "stream",
     "text": [
      "   product_id                                       product_name  aisle_id  \\\n",
      "0           1                         Chocolate Sandwich Cookies        61   \n",
      "1           2                                   All-Seasons Salt       104   \n",
      "2           3               Robust Golden Unsweetened Oolong Tea        94   \n",
      "3           4  Smart Ones Classic Favorites Mini Rigatoni Wit...        38   \n",
      "4           5                          Green Chile Anytime Sauce         5   \n",
      "\n",
      "   department_id  \n",
      "0             19  \n",
      "1             13  \n",
      "2              7  \n",
      "3              1  \n",
      "4             13  \n",
      "\n",
      "<class 'pandas.core.frame.DataFrame'>\n",
      "RangeIndex: 49694 entries, 0 to 49693\n",
      "Data columns (total 4 columns):\n",
      " #   Column         Non-Null Count  Dtype \n",
      "---  ------         --------------  ----- \n",
      " 0   product_id     49694 non-null  int64 \n",
      " 1   product_name   48436 non-null  object\n",
      " 2   aisle_id       49694 non-null  int64 \n",
      " 3   department_id  49694 non-null  int64 \n",
      "dtypes: int64(3), object(1)\n",
      "memory usage: 1.5+ MB\n"
     ]
    }
   ],
   "source": [
    "df_products = pd.read_csv('/datasets/products.csv', sep=';')\n",
    "print(df_products.head())\n",
    "print()\n",
    "df_products.info()"
   ]
  },
  {
   "cell_type": "code",
   "execution_count": 11,
   "id": "d8370c05",
   "metadata": {},
   "outputs": [
    {
     "name": "stdout",
     "output_type": "stream",
     "text": [
      "   order_id  product_id  add_to_cart_order  reordered\n",
      "0   2141543       11440               17.0          0\n",
      "1    567889        1560                1.0          1\n",
      "2   2261212       26683                1.0          1\n",
      "3    491251        8670               35.0          1\n",
      "4   2571142        1940                5.0          1\n",
      "\n",
      "<class 'pandas.core.frame.DataFrame'>\n",
      "RangeIndex: 4545007 entries, 0 to 4545006\n",
      "Data columns (total 4 columns):\n",
      " #   Column             Dtype  \n",
      "---  ------             -----  \n",
      " 0   order_id           int64  \n",
      " 1   product_id         int64  \n",
      " 2   add_to_cart_order  float64\n",
      " 3   reordered          int64  \n",
      "dtypes: float64(1), int64(3)\n",
      "memory usage: 138.7 MB\n"
     ]
    }
   ],
   "source": [
    "df_order_products = pd.read_csv('/datasets/order_products.csv', sep=';')\n",
    "print(df_order_products.head())\n",
    "print()\n",
    "df_order_products.info()"
   ]
  },
  {
   "cell_type": "code",
   "execution_count": 17,
   "id": "59e2090f",
   "metadata": {},
   "outputs": [
    {
     "name": "stdout",
     "output_type": "stream",
     "text": [
      "   aisle_id                       aisle\n",
      "0         1       prepared soups salads\n",
      "1         2           specialty cheeses\n",
      "2         3         energy granola bars\n",
      "3         4               instant foods\n",
      "4         5  marinades meat preparation\n",
      "\n",
      "<class 'pandas.core.frame.DataFrame'>\n",
      "RangeIndex: 134 entries, 0 to 133\n",
      "Data columns (total 2 columns):\n",
      " #   Column    Non-Null Count  Dtype \n",
      "---  ------    --------------  ----- \n",
      " 0   aisle_id  134 non-null    int64 \n",
      " 1   aisle     134 non-null    object\n",
      "dtypes: int64(1), object(1)\n",
      "memory usage: 2.2+ KB\n"
     ]
    }
   ],
   "source": [
    "df_aisles = pd.read_csv('/datasets/aisles.csv', sep=';')\n",
    "print(df_aisles.head())\n",
    "print()\n",
    "df_aisles.info()"
   ]
  },
  {
   "cell_type": "code",
   "execution_count": 18,
   "id": "6fc81694",
   "metadata": {},
   "outputs": [
    {
     "name": "stdout",
     "output_type": "stream",
     "text": [
      "   department_id department\n",
      "0              1     frozen\n",
      "1              2      other\n",
      "2              3     bakery\n",
      "3              4    produce\n",
      "4              5    alcohol\n",
      "\n",
      "<class 'pandas.core.frame.DataFrame'>\n",
      "RangeIndex: 21 entries, 0 to 20\n",
      "Data columns (total 2 columns):\n",
      " #   Column         Non-Null Count  Dtype \n",
      "---  ------         --------------  ----- \n",
      " 0   department_id  21 non-null     int64 \n",
      " 1   department     21 non-null     object\n",
      "dtypes: int64(1), object(1)\n",
      "memory usage: 464.0+ bytes\n"
     ]
    }
   ],
   "source": [
    "df_departments = pd.read_csv('/datasets/departments.csv', sep=';')\n",
    "print(df_departments.head())\n",
    "print()\n",
    "df_departments.info()"
   ]
  },
  {
   "cell_type": "markdown",
   "id": "a543d0ec",
   "metadata": {},
   "source": [
    "<div class=\"alert alert-success\"; style=\"border-left: 7px solid green\">\n",
    "<b>✅ Reviewer's comment, v. 3</b> \n",
    "    \n",
    "✔️ \n",
    "    \n",
    "\n",
    "\n",
    "<div class=\"alert alert-danger\"; style=\"border-left: 7px solid red\">\n",
    "<b>⛔️ Reviewer's comment, v. 2</b> \n",
    "\n",
    "Please do not forget to use `info()` method as well and describe the  observatons you made during studying the dataframes.\n",
    "    \n",
    "<div class=\"alert alert-danger\"; style=\"border-left: 7px solid red\">\n",
    "<b>⛔️ Reviewer's comment, v. 1</b> \n",
    "\n",
    "In this section, please also get familiar with the datasets. First, use `head()` method to display first lines. And then use `info()` method. It will allow you to see the size of the dataframe, which types of data are used (whether the types are optimal), whether there are missing data in the dataframes.\n",
    "    \n",
    "After you've studied the data don't forget to write a brief summary of your observations."
   ]
  },
  {
   "cell_type": "markdown",
   "id": "07357848-dc64-4156-9cc3-01ff4365226d",
   "metadata": {},
   "source": [
    "## Find and remove duplicate values (and describe why you make your choices)"
   ]
  },
  {
   "cell_type": "markdown",
   "id": "f179f0a9",
   "metadata": {},
   "source": [
    "### `orders` data frame"
   ]
  },
  {
   "cell_type": "code",
   "execution_count": 19,
   "id": "b99297a5-405a-463d-8535-9adc3da4ad74",
   "metadata": {},
   "outputs": [
    {
     "data": {
      "text/html": [
       "<div>\n",
       "<style scoped>\n",
       "    .dataframe tbody tr th:only-of-type {\n",
       "        vertical-align: middle;\n",
       "    }\n",
       "\n",
       "    .dataframe tbody tr th {\n",
       "        vertical-align: top;\n",
       "    }\n",
       "\n",
       "    .dataframe thead th {\n",
       "        text-align: right;\n",
       "    }\n",
       "</style>\n",
       "<table border=\"1\" class=\"dataframe\">\n",
       "  <thead>\n",
       "    <tr style=\"text-align: right;\">\n",
       "      <th></th>\n",
       "      <th>order_id</th>\n",
       "      <th>user_id</th>\n",
       "      <th>order_number</th>\n",
       "      <th>order_dow</th>\n",
       "      <th>order_hour_of_day</th>\n",
       "      <th>days_since_prior_order</th>\n",
       "    </tr>\n",
       "  </thead>\n",
       "  <tbody>\n",
       "    <tr>\n",
       "      <th>145574</th>\n",
       "      <td>794638</td>\n",
       "      <td>50898</td>\n",
       "      <td>24</td>\n",
       "      <td>3</td>\n",
       "      <td>2</td>\n",
       "      <td>2.0</td>\n",
       "    </tr>\n",
       "    <tr>\n",
       "      <th>223105</th>\n",
       "      <td>2160484</td>\n",
       "      <td>107525</td>\n",
       "      <td>16</td>\n",
       "      <td>3</td>\n",
       "      <td>2</td>\n",
       "      <td>30.0</td>\n",
       "    </tr>\n",
       "    <tr>\n",
       "      <th>230807</th>\n",
       "      <td>1918001</td>\n",
       "      <td>188546</td>\n",
       "      <td>14</td>\n",
       "      <td>3</td>\n",
       "      <td>2</td>\n",
       "      <td>16.0</td>\n",
       "    </tr>\n",
       "    <tr>\n",
       "      <th>266232</th>\n",
       "      <td>1782114</td>\n",
       "      <td>106752</td>\n",
       "      <td>1</td>\n",
       "      <td>3</td>\n",
       "      <td>2</td>\n",
       "      <td>NaN</td>\n",
       "    </tr>\n",
       "    <tr>\n",
       "      <th>273805</th>\n",
       "      <td>1112182</td>\n",
       "      <td>202304</td>\n",
       "      <td>84</td>\n",
       "      <td>3</td>\n",
       "      <td>2</td>\n",
       "      <td>6.0</td>\n",
       "    </tr>\n",
       "    <tr>\n",
       "      <th>284038</th>\n",
       "      <td>2845099</td>\n",
       "      <td>31189</td>\n",
       "      <td>11</td>\n",
       "      <td>3</td>\n",
       "      <td>2</td>\n",
       "      <td>7.0</td>\n",
       "    </tr>\n",
       "    <tr>\n",
       "      <th>311713</th>\n",
       "      <td>1021560</td>\n",
       "      <td>53767</td>\n",
       "      <td>3</td>\n",
       "      <td>3</td>\n",
       "      <td>2</td>\n",
       "      <td>9.0</td>\n",
       "    </tr>\n",
       "    <tr>\n",
       "      <th>321100</th>\n",
       "      <td>408114</td>\n",
       "      <td>68324</td>\n",
       "      <td>4</td>\n",
       "      <td>3</td>\n",
       "      <td>2</td>\n",
       "      <td>18.0</td>\n",
       "    </tr>\n",
       "    <tr>\n",
       "      <th>323900</th>\n",
       "      <td>1919531</td>\n",
       "      <td>191501</td>\n",
       "      <td>32</td>\n",
       "      <td>3</td>\n",
       "      <td>2</td>\n",
       "      <td>7.0</td>\n",
       "    </tr>\n",
       "    <tr>\n",
       "      <th>345917</th>\n",
       "      <td>2232988</td>\n",
       "      <td>82565</td>\n",
       "      <td>1</td>\n",
       "      <td>3</td>\n",
       "      <td>2</td>\n",
       "      <td>NaN</td>\n",
       "    </tr>\n",
       "    <tr>\n",
       "      <th>371905</th>\n",
       "      <td>391768</td>\n",
       "      <td>57671</td>\n",
       "      <td>19</td>\n",
       "      <td>3</td>\n",
       "      <td>2</td>\n",
       "      <td>10.0</td>\n",
       "    </tr>\n",
       "    <tr>\n",
       "      <th>394347</th>\n",
       "      <td>467134</td>\n",
       "      <td>63189</td>\n",
       "      <td>21</td>\n",
       "      <td>3</td>\n",
       "      <td>2</td>\n",
       "      <td>2.0</td>\n",
       "    </tr>\n",
       "    <tr>\n",
       "      <th>411408</th>\n",
       "      <td>1286742</td>\n",
       "      <td>183220</td>\n",
       "      <td>48</td>\n",
       "      <td>3</td>\n",
       "      <td>2</td>\n",
       "      <td>4.0</td>\n",
       "    </tr>\n",
       "    <tr>\n",
       "      <th>415163</th>\n",
       "      <td>2282673</td>\n",
       "      <td>86751</td>\n",
       "      <td>49</td>\n",
       "      <td>3</td>\n",
       "      <td>2</td>\n",
       "      <td>2.0</td>\n",
       "    </tr>\n",
       "    <tr>\n",
       "      <th>441599</th>\n",
       "      <td>2125197</td>\n",
       "      <td>14050</td>\n",
       "      <td>48</td>\n",
       "      <td>3</td>\n",
       "      <td>2</td>\n",
       "      <td>3.0</td>\n",
       "    </tr>\n",
       "  </tbody>\n",
       "</table>\n",
       "</div>"
      ],
      "text/plain": [
       "        order_id  user_id  order_number  order_dow  order_hour_of_day  \\\n",
       "145574    794638    50898            24          3                  2   \n",
       "223105   2160484   107525            16          3                  2   \n",
       "230807   1918001   188546            14          3                  2   \n",
       "266232   1782114   106752             1          3                  2   \n",
       "273805   1112182   202304            84          3                  2   \n",
       "284038   2845099    31189            11          3                  2   \n",
       "311713   1021560    53767             3          3                  2   \n",
       "321100    408114    68324             4          3                  2   \n",
       "323900   1919531   191501            32          3                  2   \n",
       "345917   2232988    82565             1          3                  2   \n",
       "371905    391768    57671            19          3                  2   \n",
       "394347    467134    63189            21          3                  2   \n",
       "411408   1286742   183220            48          3                  2   \n",
       "415163   2282673    86751            49          3                  2   \n",
       "441599   2125197    14050            48          3                  2   \n",
       "\n",
       "        days_since_prior_order  \n",
       "145574                     2.0  \n",
       "223105                    30.0  \n",
       "230807                    16.0  \n",
       "266232                     NaN  \n",
       "273805                     6.0  \n",
       "284038                     7.0  \n",
       "311713                     9.0  \n",
       "321100                    18.0  \n",
       "323900                     7.0  \n",
       "345917                     NaN  \n",
       "371905                    10.0  \n",
       "394347                     2.0  \n",
       "411408                     4.0  \n",
       "415163                     2.0  \n",
       "441599                     3.0  "
      ]
     },
     "execution_count": 19,
     "metadata": {},
     "output_type": "execute_result"
    }
   ],
   "source": [
    "# Check for duplicated orders\n",
    "df_orders[df_orders.duplicated()]\n",
    "\n",
    "\n"
   ]
  },
  {
   "cell_type": "markdown",
   "id": "899f9d94",
   "metadata": {},
   "source": [
    "<div class=\"alert alert-success\"; style=\"border-left: 7px solid green\">\n",
    "<b>✅ Reviewer's comment, v. 2</b> \n",
    "    \n",
    "✔️ \n",
    "    \n",
    "\n",
    "\n",
    "<div class=\"alert alert-warning\"; style=\"border-left: 7px solid gold\">\n",
    "<b>⚠️ Reviewer's comment, v. 1</b> \n",
    "\n",
    "Please note that you didn't need to save a data to a variable (as you are not going to use it later), you could immediately display it like that:\n",
    "    \n",
    "`df_orders[df_orders.duplicated()]`\n",
    "    \n",
    "---\n",
    "    \n",
    "\n",
    "\n",
    "`print()` function is not good for displaying dataframes in Jupyter notebook. \n",
    "    \n",
    "Sometimes you don't need any function to display a dataframe, for example, if you are calling it in the last line of a code cell.\n",
    "    \n",
    "In other cases it is preferrable to use `display()` instead of `print()`. Then dataframe will be shown in a table format, which is much easier to read."
   ]
  },
  {
   "cell_type": "code",
   "execution_count": 20,
   "id": "0d44de5d",
   "metadata": {},
   "outputs": [
    {
     "name": "stdout",
     "output_type": "stream",
     "text": [
      "        order_id  user_id  order_number  order_dow  order_hour_of_day  \\\n",
      "4838     2766110   162084            41          3                  2   \n",
      "5156     2190225   138285            18          3                  2   \n",
      "15506     553049    58599            13          3                  2   \n",
      "18420     382357   120200            19          3                  2   \n",
      "24691     690242    77357             2          3                  2   \n",
      "...          ...      ...           ...        ...                ...   \n",
      "457013   3384021    14881             6          3                  2   \n",
      "458816    910166   164782            18          3                  2   \n",
      "459635   1680532   106435             6          3                  2   \n",
      "468324    222962    54979            59          3                  2   \n",
      "477526   2592344    46860            38          3                  2   \n",
      "\n",
      "        days_since_prior_order  \n",
      "4838                      16.0  \n",
      "5156                      11.0  \n",
      "15506                      7.0  \n",
      "18420                     11.0  \n",
      "24691                      9.0  \n",
      "...                        ...  \n",
      "457013                    30.0  \n",
      "458816                     4.0  \n",
      "459635                    21.0  \n",
      "468324                     3.0  \n",
      "477526                     3.0  \n",
      "\n",
      "[121 rows x 6 columns]\n"
     ]
    }
   ],
   "source": [
    "# Check for all orders placed Wednesday at 2:00 AM\n",
    "wednesday_2am_orders = df_orders[\n",
    "    (df_orders['order_hour_of_day'] == 2) &\n",
    "    (df_orders['order_dow'] == 3)\n",
    "]\n",
    "print(wednesday_2am_orders)\n"
   ]
  },
  {
   "cell_type": "code",
   "execution_count": 21,
   "id": "480563c7",
   "metadata": {},
   "outputs": [],
   "source": [
    "# Remove duplicate orders\n",
    "df_orders_cleaned = df_orders.drop_duplicates(inplace=True)\n",
    "\n"
   ]
  },
  {
   "cell_type": "markdown",
   "id": "e7f53449",
   "metadata": {},
   "source": [
    "<div class=\"alert alert-warning\"; style=\"border-left: 7px solid gold\">\n",
    "<b>⚠️ Reviewer's comment, v. 1</b> \n",
    "\n",
    "Here you are saving the result to `df_orders_cleaned`, but you also use `inplace=True`, which saves the changes to the original dataframe `df_orders`. So there is no need to save it to `df_orders_cleaned`.\n",
    "    \n"
   ]
  },
  {
   "cell_type": "code",
   "execution_count": 22,
   "id": "0b2396a2",
   "metadata": {},
   "outputs": [
    {
     "name": "stdout",
     "output_type": "stream",
     "text": [
      "Empty DataFrame\n",
      "Columns: [order_id, user_id, order_number, order_dow, order_hour_of_day, days_since_prior_order]\n",
      "Index: []\n"
     ]
    }
   ],
   "source": [
    "# Double check for duplicate rows\n",
    "duplicates = df_orders[df_orders.duplicated()]\n",
    "print(duplicates)\n"
   ]
  },
  {
   "cell_type": "code",
   "execution_count": 23,
   "id": "f6113ef1",
   "metadata": {
    "scrolled": true
   },
   "outputs": [
    {
     "name": "stdout",
     "output_type": "stream",
     "text": [
      "Empty DataFrame\n",
      "Columns: [order_id, user_id, order_number, order_dow, order_hour_of_day, days_since_prior_order]\n",
      "Index: []\n"
     ]
    }
   ],
   "source": [
    "# Double check for duplicate order IDs only\n",
    "duplicates_id = df_orders[df_orders['order_id'].duplicated()]\n",
    "print(duplicates_id)\n"
   ]
  },
  {
   "cell_type": "markdown",
   "id": "5e8905ae",
   "metadata": {},
   "source": [
    "The above code cleans the orders data from by checking for duplicates in the original file and dropping all duplictes so that we can get a more accurate idea of how many orders were taken place."
   ]
  },
  {
   "cell_type": "markdown",
   "id": "5b84be2f",
   "metadata": {},
   "source": [
    "<div class=\"alert alert-success\"; style=\"border-left: 7px solid green\">\n",
    "<b>✅ Reviewer's comment, v. 1</b> \n",
    "    \n",
    "Well done - you did all the checks and left the conclusion afterwards. "
   ]
  },
  {
   "cell_type": "markdown",
   "id": "45e6bc46",
   "metadata": {},
   "source": [
    "### `products` data frame"
   ]
  },
  {
   "cell_type": "code",
   "execution_count": 24,
   "id": "5f526b5b-8175-46fa-a0fd-441767d50e64",
   "metadata": {},
   "outputs": [
    {
     "name": "stdout",
     "output_type": "stream",
     "text": [
      "Empty DataFrame\n",
      "Columns: [product_id, product_name, aisle_id, department_id]\n",
      "Index: []\n"
     ]
    }
   ],
   "source": [
    "# Check for fully duplicate rows\n",
    "duplicates = df_products[df_products.duplicated()]\n",
    "print(duplicates)"
   ]
  },
  {
   "cell_type": "code",
   "execution_count": 25,
   "id": "88daa4f4",
   "metadata": {},
   "outputs": [
    {
     "name": "stdout",
     "output_type": "stream",
     "text": [
      "Empty DataFrame\n",
      "Columns: [product_id, product_name, aisle_id, department_id]\n",
      "Index: []\n"
     ]
    }
   ],
   "source": [
    "# Check for just duplicate product IDs\n",
    "duplicated_product_ids = df_products[df_products.duplicated(subset=['product_id'], keep=False)]\n",
    "print(duplicated_product_ids)"
   ]
  },
  {
   "cell_type": "code",
   "execution_count": 26,
   "id": "c773f0bf",
   "metadata": {},
   "outputs": [
    {
     "name": "stdout",
     "output_type": "stream",
     "text": [
      "       product_id                                     product_name  aisle_id  \\\n",
      "37             38                                              NaN       100   \n",
      "41             42                                  Biotin 1000 mcg        47   \n",
      "71             72                                              NaN       100   \n",
      "109           110                                              NaN       100   \n",
      "185           186       Fresh Scent Dishwasher Detergent with Dawn        74   \n",
      "...           ...                                              ...       ...   \n",
      "49689       49690                    HIGH PERFORMANCE ENERGY DRINK        64   \n",
      "49690       49691                    ORIGINAL PANCAKE & WAFFLE MIX       130   \n",
      "49691       49692  ORGANIC INSTANT OATMEAL LIGHT MAPLE BROWN SUGAR       130   \n",
      "49692       49693                           SPRING WATER BODY WASH       127   \n",
      "49693       49694                          BURRITO- STEAK & CHEESE        38   \n",
      "\n",
      "       department_id                               product_name_lower  \n",
      "37                21                                              NaN  \n",
      "41                11                                  biotin 1000 mcg  \n",
      "71                21                                              NaN  \n",
      "109               21                                              NaN  \n",
      "185               17       fresh scent dishwasher detergent with dawn  \n",
      "...              ...                                              ...  \n",
      "49689              7                    high performance energy drink  \n",
      "49690             14                    original pancake & waffle mix  \n",
      "49691             14  organic instant oatmeal light maple brown sugar  \n",
      "49692             11                           spring water body wash  \n",
      "49693              1                          burrito- steak & cheese  \n",
      "\n",
      "[1465 rows x 5 columns]\n"
     ]
    }
   ],
   "source": [
    "# Check for just duplicate product names (convert names to lowercase to compare better)\n",
    "df_products['product_name_lower'] = df_products['product_name'].str.lower()\n",
    "duplicate_products = df_products[df_products['product_name_lower'].duplicated(keep=False)]\n",
    "print(duplicate_products)\n",
    "\n"
   ]
  },
  {
   "cell_type": "markdown",
   "id": "79cc76a1",
   "metadata": {},
   "source": [
    "<div class=\"alert alert-success\"; style=\"border-left: 7px solid green\">\n",
    "<b>✅ Reviewer's comment, v. 2</b> \n",
    "    \n",
    "✔️ \n",
    "    \n",
    "\n",
    "\n",
    "<div class=\"alert alert-danger\"; style=\"border-left: 7px solid red\">\n",
    "<b>⛔️ Reviewer's comment, v. 1</b> \n",
    "\n",
    "\n",
    "You need to check for the duplicated product names in lower case. Could you please do that?\n",
    "</div>\n"
   ]
  },
  {
   "cell_type": "code",
   "execution_count": 27,
   "id": "01efd02e",
   "metadata": {},
   "outputs": [
    {
     "name": "stdout",
     "output_type": "stream",
     "text": [
      "      product_id                                product_name  aisle_id  \\\n",
      "41            42                             Biotin 1000 mcg        47   \n",
      "185          186  Fresh Scent Dishwasher Detergent with Dawn        74   \n",
      "515          516                      American Cheese Slices        21   \n",
      "1538        1539                            Cauliflower head        83   \n",
      "1783        1784         NUTrition Protein Mix Blueberry Nut       117   \n",
      "\n",
      "      department_id                          product_name_lower  \n",
      "41               11                             biotin 1000 mcg  \n",
      "185              17  fresh scent dishwasher detergent with dawn  \n",
      "515              16                      american cheese slices  \n",
      "1538              4                            cauliflower head  \n",
      "1783             19         nutrition protein mix blueberry nut  \n"
     ]
    }
   ],
   "source": [
    "# Check for duplicate product names that aren't missing\n",
    "df_non_missing = df_products[df_products['product_name'].notna()]\n",
    "duplicate_product_name = df_non_missing[df_non_missing.duplicated(subset=['product_name_lower'], keep=False)]\n",
    "print(duplicate_product_name.head())"
   ]
  },
  {
   "cell_type": "markdown",
   "id": "9da8d293",
   "metadata": {},
   "source": [
    "The section cleans the products data frame so we can understand if their are any duplicate rows. "
   ]
  },
  {
   "cell_type": "markdown",
   "id": "60f30db1",
   "metadata": {},
   "source": [
    "### `departments` data frame"
   ]
  },
  {
   "cell_type": "code",
   "execution_count": 28,
   "id": "fb410ad4-0fbf-4b80-bb09-23fdea79afe3",
   "metadata": {},
   "outputs": [
    {
     "name": "stdout",
     "output_type": "stream",
     "text": [
      "Empty DataFrame\n",
      "Columns: [order_id, user_id, order_number, order_dow, order_hour_of_day, days_since_prior_order]\n",
      "Index: []\n"
     ]
    }
   ],
   "source": [
    "# Check for fully duplicate rows\n",
    "duplicates = df_orders[df_orders.duplicated()]\n",
    "print(duplicates)"
   ]
  },
  {
   "cell_type": "code",
   "execution_count": 29,
   "id": "332b12bb",
   "metadata": {},
   "outputs": [
    {
     "name": "stdout",
     "output_type": "stream",
     "text": [
      "    department_id       department\n",
      "0               1           frozen\n",
      "1               2            other\n",
      "2               3           bakery\n",
      "3               4          produce\n",
      "4               5          alcohol\n",
      "5               6    international\n",
      "6               7        beverages\n",
      "7               8             pets\n",
      "8               9  dry goods pasta\n",
      "9              10             bulk\n",
      "10             11    personal care\n",
      "11             12     meat seafood\n",
      "12             13           pantry\n",
      "13             14        breakfast\n",
      "14             15     canned goods\n",
      "15             16       dairy eggs\n",
      "16             17        household\n",
      "17             18           babies\n",
      "18             19           snacks\n",
      "19             20             deli\n",
      "20             21          missing\n"
     ]
    }
   ],
   "source": [
    "# Double check for any other tricky duplicates\n",
    "print(df_departments)\n"
   ]
  },
  {
   "cell_type": "markdown",
   "id": "bd30d78e",
   "metadata": {},
   "source": [
    "This section checks if there are any duplicates"
   ]
  },
  {
   "cell_type": "markdown",
   "id": "889349c1",
   "metadata": {},
   "source": [
    "### `aisles` data frame"
   ]
  },
  {
   "cell_type": "code",
   "execution_count": 30,
   "id": "9da89fb9-4679-40f5-ad0d-c34df753a3f8",
   "metadata": {},
   "outputs": [
    {
     "name": "stdout",
     "output_type": "stream",
     "text": [
      "Empty DataFrame\n",
      "Columns: [aisle_id, aisle]\n",
      "Index: []\n"
     ]
    }
   ],
   "source": [
    "# Check for fullly duplicate rows\n",
    "duplicates = df_aisles[df_aisles.duplicated()]\n",
    "print(duplicates)\n"
   ]
  },
  {
   "cell_type": "code",
   "execution_count": 31,
   "id": "da7c2822",
   "metadata": {},
   "outputs": [
    {
     "name": "stdout",
     "output_type": "stream",
     "text": [
      "Empty DataFrame\n",
      "Columns: [aisle_id, aisle, product_name_trimmed]\n",
      "Index: []\n"
     ]
    }
   ],
   "source": [
    "# Double check for any other tricky duplicates\n",
    "df_aisles['product_name_trimmed'] = df_aisles['aisle'].str.strip().str.lower()\n",
    "minor_variation_duplicates = df_aisles[df_aisles.duplicated(subset=['product_name_trimmed'], keep=False)]\n",
    "\n",
    "print(minor_variation_duplicates)"
   ]
  },
  {
   "cell_type": "markdown",
   "id": "ac63826f",
   "metadata": {},
   "source": [
    "This section checks if there are any duplicates and tricky duplicates by trimming any whitespace and converting all aisle names to lowercase."
   ]
  },
  {
   "cell_type": "markdown",
   "id": "1d64a07a",
   "metadata": {},
   "source": [
    "<div class=\"alert alert-success\"; style=\"border-left: 7px solid green\">\n",
    "<b>✅ Reviewer's comment, v. 1</b> \n",
    "    \n",
    "Very good, no duplicates in the dataframes."
   ]
  },
  {
   "cell_type": "markdown",
   "id": "274cd06a",
   "metadata": {},
   "source": [
    "### `order_products` data frame"
   ]
  },
  {
   "cell_type": "code",
   "execution_count": 32,
   "id": "52326689-84a8-4b8f-a881-7c68780f62c9",
   "metadata": {},
   "outputs": [
    {
     "name": "stdout",
     "output_type": "stream",
     "text": [
      "Empty DataFrame\n",
      "Columns: [order_id, product_id, add_to_cart_order, reordered]\n",
      "Index: []\n"
     ]
    }
   ],
   "source": [
    "# Check for fullly duplicate rows\n",
    "duplicates = df_order_products[df_order_products.duplicated(keep=False)]\n",
    "print(duplicates)\n"
   ]
  },
  {
   "cell_type": "code",
   "execution_count": 33,
   "id": "7b861391",
   "metadata": {},
   "outputs": [
    {
     "name": "stdout",
     "output_type": "stream",
     "text": [
      "4545007\n",
      "<class 'pandas.core.frame.DataFrame'>\n",
      "RangeIndex: 4545007 entries, 0 to 4545006\n",
      "Data columns (total 4 columns):\n",
      " #   Column             Dtype  \n",
      "---  ------             -----  \n",
      " 0   order_id           int64  \n",
      " 1   product_id         int64  \n",
      " 2   add_to_cart_order  float64\n",
      " 3   reordered          int64  \n",
      "dtypes: float64(1), int64(3)\n",
      "memory usage: 138.7 MB\n"
     ]
    }
   ],
   "source": [
    "# Double check for any other tricky duplicates\n",
    "unique_combinations = df_order_products[['order_id', 'product_id']].drop_duplicates().shape[0]\n",
    "print(unique_combinations)\n",
    "df_order_products.info()\n"
   ]
  },
  {
   "cell_type": "markdown",
   "id": "d650d577",
   "metadata": {},
   "source": [
    "<div class=\"alert alert-success\"; style=\"border-left: 7px solid green\">\n",
    "<b>✅ Reviewer's comment, v. 2</b> \n",
    "    \n",
    "✔️ Well done.\n",
    "    \n",
    "\n",
    "\n",
    "<div class=\"alert alert-danger\"; style=\"border-left: 7px solid red\">\n",
    "<b>⛔️ Reviewer's comment, v. 1</b> \n",
    "\n",
    "\n",
    "\n",
    "When checking for duplcates, we should not only target at full duplicates, but also check for the uniqueness of the combinations that should not be repeated. In this case, for example, there should be no repeatition of `order_id` + `product_id`. \n",
    "    \n",
    "Could you please make the check?\n",
    "    \n",
    "<a class=\"tocSkip\"></a><s>\n"
   ]
  },
  {
   "cell_type": "markdown",
   "id": "0b890492",
   "metadata": {},
   "source": [
    "This section checks to see if there are any duplicate rows in the order_products data frame. I doubled checked the duplicates to see if there were any repeated order_id + product_id. The unique combination came back the same number of entries when calling info()."
   ]
  },
  {
   "cell_type": "markdown",
   "id": "1e46de76",
   "metadata": {},
   "source": [
    "## Find and remove missing values\n"
   ]
  },
  {
   "cell_type": "markdown",
   "id": "c0aebd78",
   "metadata": {},
   "source": [
    "### `products` data frame"
   ]
  },
  {
   "cell_type": "code",
   "execution_count": 34,
   "id": "fe4a8b0f",
   "metadata": {},
   "outputs": [
    {
     "name": "stdout",
     "output_type": "stream",
     "text": [
      "product_id               0\n",
      "product_name          1258\n",
      "aisle_id                 0\n",
      "department_id            0\n",
      "product_name_lower    1258\n",
      "dtype: int64\n"
     ]
    }
   ],
   "source": [
    "missing_values = df_products.isnull().sum()\n",
    "print(missing_values)"
   ]
  },
  {
   "cell_type": "markdown",
   "id": "ce5293c2",
   "metadata": {},
   "source": [
    "<div class=\"alert alert-success\"; style=\"border-left: 7px solid green\">\n",
    "<b>✅ Reviewer's comment, v. 2</b> \n",
    "    \n",
    "✔️ \n",
    "    \n",
    "\n",
    "\n",
    "<div class=\"alert alert-danger\"; style=\"border-left: 7px solid red\">\n",
    "<b>⛔️ Reviewer's comment, v. 1</b> \n",
    "\n",
    "In this section we are working with the missing values. Could you please check for the missing values in the dataframe?"
   ]
  },
  {
   "cell_type": "code",
   "execution_count": 35,
   "id": "e96167bc",
   "metadata": {},
   "outputs": [
    {
     "name": "stdout",
     "output_type": "stream",
     "text": [
      "       product_id product_name  aisle_id  department_id product_name_lower\n",
      "37             38          NaN       100             21                NaN\n",
      "71             72          NaN       100             21                NaN\n",
      "109           110          NaN       100             21                NaN\n",
      "296           297          NaN       100             21                NaN\n",
      "416           417          NaN       100             21                NaN\n",
      "...           ...          ...       ...            ...                ...\n",
      "49552       49553          NaN       100             21                NaN\n",
      "49574       49575          NaN       100             21                NaN\n",
      "49640       49641          NaN       100             21                NaN\n",
      "49663       49664          NaN       100             21                NaN\n",
      "49668       49669          NaN       100             21                NaN\n",
      "\n",
      "[1258 rows x 5 columns]\n",
      "Empty DataFrame\n",
      "Columns: [product_id, product_name, aisle_id, department_id, product_name_lower]\n",
      "Index: []\n"
     ]
    }
   ],
   "source": [
    "# Are all of the missing product names associated with aisle ID 100?\n",
    "missing_product_names = df_products[df_products['product_name'].isnull()]\n",
    "missing_product_names_not_aisle_100 = missing_product_names[missing_product_names['aisle_id'] != 100]\n",
    "print(missing_product_names)\n",
    "print(missing_product_names_not_aisle_100)\n",
    "\n",
    "\n"
   ]
  },
  {
   "cell_type": "code",
   "execution_count": 36,
   "id": "8fd0a541",
   "metadata": {},
   "outputs": [
    {
     "name": "stdout",
     "output_type": "stream",
     "text": [
      "       product_id product_name  aisle_id  department_id product_name_lower\n",
      "37             38          NaN       100             21                NaN\n",
      "71             72          NaN       100             21                NaN\n",
      "109           110          NaN       100             21                NaN\n",
      "296           297          NaN       100             21                NaN\n",
      "416           417          NaN       100             21                NaN\n",
      "...           ...          ...       ...            ...                ...\n",
      "49552       49553          NaN       100             21                NaN\n",
      "49574       49575          NaN       100             21                NaN\n",
      "49640       49641          NaN       100             21                NaN\n",
      "49663       49664          NaN       100             21                NaN\n",
      "49668       49669          NaN       100             21                NaN\n",
      "\n",
      "[1258 rows x 5 columns]\n",
      "Empty DataFrame\n",
      "Columns: [product_id, product_name, aisle_id, department_id, product_name_lower]\n",
      "Index: []\n"
     ]
    }
   ],
   "source": [
    "# Are all of the missing product names associated with department ID 21?\n",
    "missing_product_names_not_dep_21 = missing_product_names[missing_product_names['department_id'] != 21]\n",
    "print(missing_product_names)\n",
    "print(missing_product_names_not_dep_21)\n"
   ]
  },
  {
   "cell_type": "markdown",
   "id": "b41a439a",
   "metadata": {},
   "source": [
    "<div class=\"alert alert-success\"; style=\"border-left: 7px solid green\">\n",
    "<b>✅ Reviewer's comment, v. 2</b> \n",
    "    \n",
    "✔️ OK, now we can see that there are no missing values which are not deparment 21 or aisle 100.\n",
    "    \n",
    "\n",
    "\n",
    "<div class=\"alert alert-danger\"; style=\"border-left: 7px solid red\">\n",
    "<b>⛔️ Reviewer's comment, v. 1</b> \n",
    "\n",
    "We cannot confirm from the checks above that all the missing product names are associated with aisle ID 100 and department ID 21. Can you please update the check to clearly answer the questions above. "
   ]
  },
  {
   "cell_type": "code",
   "execution_count": 37,
   "id": "325c3464",
   "metadata": {},
   "outputs": [
    {
     "name": "stdout",
     "output_type": "stream",
     "text": [
      "       product_id product_name  aisle_id  department_id product_name_lower\n",
      "37             38          NaN       100             21                NaN\n",
      "71             72          NaN       100             21                NaN\n",
      "109           110          NaN       100             21                NaN\n",
      "296           297          NaN       100             21                NaN\n",
      "416           417          NaN       100             21                NaN\n",
      "...           ...          ...       ...            ...                ...\n",
      "49552       49553          NaN       100             21                NaN\n",
      "49574       49575          NaN       100             21                NaN\n",
      "49640       49641          NaN       100             21                NaN\n",
      "49663       49664          NaN       100             21                NaN\n",
      "49668       49669          NaN       100             21                NaN\n",
      "\n",
      "[1258 rows x 5 columns]\n"
     ]
    }
   ],
   "source": [
    "# What is this aisle and department?\n",
    "filtered_df = df_products[(df_products['aisle_id'] == 100) & (df_products['department_id'] == 21)] \n",
    "print(filtered_df)\n"
   ]
  },
  {
   "cell_type": "code",
   "execution_count": 38,
   "id": "658806d2",
   "metadata": {},
   "outputs": [
    {
     "data": {
      "text/html": [
       "<div>\n",
       "<style scoped>\n",
       "    .dataframe tbody tr th:only-of-type {\n",
       "        vertical-align: middle;\n",
       "    }\n",
       "\n",
       "    .dataframe tbody tr th {\n",
       "        vertical-align: top;\n",
       "    }\n",
       "\n",
       "    .dataframe thead th {\n",
       "        text-align: right;\n",
       "    }\n",
       "</style>\n",
       "<table border=\"1\" class=\"dataframe\">\n",
       "  <thead>\n",
       "    <tr style=\"text-align: right;\">\n",
       "      <th></th>\n",
       "      <th>aisle_id</th>\n",
       "      <th>aisle</th>\n",
       "      <th>product_name_trimmed</th>\n",
       "    </tr>\n",
       "  </thead>\n",
       "  <tbody>\n",
       "    <tr>\n",
       "      <th>99</th>\n",
       "      <td>100</td>\n",
       "      <td>missing</td>\n",
       "      <td>missing</td>\n",
       "    </tr>\n",
       "  </tbody>\n",
       "</table>\n",
       "</div>"
      ],
      "text/plain": [
       "    aisle_id    aisle product_name_trimmed\n",
       "99       100  missing              missing"
      ]
     },
     "execution_count": 38,
     "metadata": {},
     "output_type": "execute_result"
    }
   ],
   "source": [
    "#ADDED BY REVIEER\n",
    "\n",
    "df_departments[df_departments['department_id'] == 21]\n",
    "df_aisles[df_aisles['aisle_id'] == 100]"
   ]
  },
  {
   "cell_type": "markdown",
   "id": "02aeb032",
   "metadata": {},
   "source": [
    "<div class=\"alert alert-success\"; style=\"border-left: 7px solid green\">\n",
    "<b>✅ Reviewer's comment, v. 3</b> \n",
    "    \n",
    "✔️ \n",
    "    \n",
    "\n",
    "\n",
    "<div class=\"alert alert-danger\"; style=\"border-left: 7px solid red\">\n",
    "<b>⛔️ Reaviewer's comment, v. 2</b> \n",
    "\n",
    "\n",
    "You need to find the names for the aisle 100 and department 21 in the relevant dataframes (the ones that contain data on aisle names and department names). I'm showing you the example. Could you please do the same for the aisle?\n",
    "    \n",
    "    \n",
    "`\n",
    "    \n",
    "<div class=\"alert alert-danger\"; style=\"border-left: 7px solid red\">\n",
    "<b>⛔️ Reviewer's comment, v. 1</b> \n",
    "\n",
    "Here you will need to display the names of the aisle 100 and department 21 from the relevant dataframes."
   ]
  },
  {
   "cell_type": "code",
   "execution_count": 28,
   "id": "6b295120",
   "metadata": {},
   "outputs": [],
   "source": [
    "# Fill missing product names with 'Unknown'\n",
    "df_products['product_name'] = df_products['product_name'].fillna('Unknown')\n"
   ]
  },
  {
   "cell_type": "markdown",
   "id": "14405f42",
   "metadata": {},
   "source": [
    "<div class=\"alert alert-success\"; style=\"border-left: 7px solid green\">\n",
    "<b>✅ Reviewer's comment, v. 1</b> \n",
    "    \n",
    "Very good."
   ]
  },
  {
   "cell_type": "markdown",
   "id": "fc70e5ad",
   "metadata": {},
   "source": [
    "We have changed all the NaN values in product_name to 'Unknown."
   ]
  },
  {
   "cell_type": "markdown",
   "id": "7eb45c86",
   "metadata": {},
   "source": [
    "### `orders` data frame"
   ]
  },
  {
   "cell_type": "code",
   "execution_count": 29,
   "id": "93e41d96",
   "metadata": {},
   "outputs": [
    {
     "name": "stdout",
     "output_type": "stream",
     "text": [
      "order_id                      0\n",
      "user_id                       0\n",
      "order_number                  0\n",
      "order_dow                     0\n",
      "order_hour_of_day             0\n",
      "days_since_prior_order    28817\n",
      "dtype: int64\n"
     ]
    }
   ],
   "source": [
    "missing_values = df_orders.isnull().sum()\n",
    "print(missing_values)"
   ]
  },
  {
   "cell_type": "markdown",
   "id": "a697c2f4",
   "metadata": {},
   "source": [
    "<div class=\"alert alert-success\"; style=\"border-left: 7px solid green\">\n",
    "<b>✅ Reviewer's comment, v. 2</b> \n",
    "    \n",
    "✔️ \n",
    "    \n",
    "\n",
    "\n",
    "<div class=\"alert alert-danger\"; style=\"border-left: 7px solid red\">\n",
    "<b>⛔️ Reviewer's comment, v. 1</b> \n",
    "\n",
    "Please display the number of the missing values in `df_orders` dataframe."
   ]
  },
  {
   "cell_type": "code",
   "execution_count": 30,
   "id": "166e5a86",
   "metadata": {},
   "outputs": [
    {
     "name": "stdout",
     "output_type": "stream",
     "text": [
      "0\n"
     ]
    }
   ],
   "source": [
    "# Are there any missing values where it's not a customer's first order?\n",
    "non_first_order = df_orders[df_orders['order_number'] > 1]\n",
    "missing_values_in_non_first = non_first_order.isnull().sum().sum()\n",
    "print(missing_values_in_non_first)"
   ]
  },
  {
   "cell_type": "markdown",
   "id": "7d2b66ea",
   "metadata": {},
   "source": [
    "<div class=\"alert alert-success\"; style=\"border-left: 7px solid green\">\n",
    "<b>✅ Reviewer's comment, v. 2</b> \n",
    "    \n",
    "✔️ OK.\n",
    "    \n",
    "\n",
    "\n",
    "<div class=\"alert alert-danger\"; style=\"border-left: 7px solid red\">\n",
    "<b>⛔️ Reviewer's comment, v. 1</b> \n",
    "\n",
    "You need to confirm it with the code."
   ]
  },
  {
   "cell_type": "markdown",
   "id": "4e23d089",
   "metadata": {},
   "source": [
    "We determine there are no missing values where it's not a customer's first order by using the isnull() and sum() functions after grouping order_number with more than one order."
   ]
  },
  {
   "cell_type": "markdown",
   "id": "69dc9ca4",
   "metadata": {},
   "source": [
    "### `order_products` data frame"
   ]
  },
  {
   "cell_type": "code",
   "execution_count": 31,
   "id": "b8240253",
   "metadata": {},
   "outputs": [
    {
     "name": "stdout",
     "output_type": "stream",
     "text": [
      "order_id               0\n",
      "product_id             0\n",
      "add_to_cart_order    836\n",
      "reordered              0\n",
      "dtype: int64\n"
     ]
    }
   ],
   "source": [
    "missing_values = df_order_products.isnull().sum()\n",
    "print(missing_values)"
   ]
  },
  {
   "cell_type": "markdown",
   "id": "9dc354a6",
   "metadata": {},
   "source": [
    "<div class=\"alert alert-success\"; style=\"border-left: 7px solid green\">\n",
    "<b>✅ Reviewer's comment, v. 2</b> \n",
    "    \n",
    "✔️ \n",
    "    \n",
    "\n",
    "\n",
    "<div class=\"alert alert-danger\"; style=\"border-left: 7px solid red\">\n",
    "<b>⛔️ Reviewer's comment, v. 1</b> \n",
    "\n",
    "Here please also check for the missing values first."
   ]
  },
  {
   "cell_type": "code",
   "execution_count": 32,
   "id": "9a78e5ee",
   "metadata": {},
   "outputs": [
    {
     "data": {
      "text/html": [
       "<div>\n",
       "<style scoped>\n",
       "    .dataframe tbody tr th:only-of-type {\n",
       "        vertical-align: middle;\n",
       "    }\n",
       "\n",
       "    .dataframe tbody tr th {\n",
       "        vertical-align: top;\n",
       "    }\n",
       "\n",
       "    .dataframe thead th {\n",
       "        text-align: right;\n",
       "    }\n",
       "</style>\n",
       "<table border=\"1\" class=\"dataframe\">\n",
       "  <thead>\n",
       "    <tr style=\"text-align: right;\">\n",
       "      <th></th>\n",
       "      <th>order_id</th>\n",
       "      <th>product_id</th>\n",
       "      <th>add_to_cart_order</th>\n",
       "      <th>reordered</th>\n",
       "    </tr>\n",
       "  </thead>\n",
       "  <tbody>\n",
       "    <tr>\n",
       "      <th>count</th>\n",
       "      <td>4.545007e+06</td>\n",
       "      <td>4.545007e+06</td>\n",
       "      <td>4.544171e+06</td>\n",
       "      <td>4.545007e+06</td>\n",
       "    </tr>\n",
       "    <tr>\n",
       "      <th>mean</th>\n",
       "      <td>1.711166e+06</td>\n",
       "      <td>2.558084e+04</td>\n",
       "      <td>8.351669e+00</td>\n",
       "      <td>5.905025e-01</td>\n",
       "    </tr>\n",
       "    <tr>\n",
       "      <th>std</th>\n",
       "      <td>9.850955e+05</td>\n",
       "      <td>1.409552e+04</td>\n",
       "      <td>7.080368e+00</td>\n",
       "      <td>4.917411e-01</td>\n",
       "    </tr>\n",
       "    <tr>\n",
       "      <th>min</th>\n",
       "      <td>4.000000e+00</td>\n",
       "      <td>1.000000e+00</td>\n",
       "      <td>1.000000e+00</td>\n",
       "      <td>0.000000e+00</td>\n",
       "    </tr>\n",
       "    <tr>\n",
       "      <th>25%</th>\n",
       "      <td>8.608170e+05</td>\n",
       "      <td>1.353500e+04</td>\n",
       "      <td>3.000000e+00</td>\n",
       "      <td>0.000000e+00</td>\n",
       "    </tr>\n",
       "    <tr>\n",
       "      <th>50%</th>\n",
       "      <td>1.711530e+06</td>\n",
       "      <td>2.527200e+04</td>\n",
       "      <td>6.000000e+00</td>\n",
       "      <td>1.000000e+00</td>\n",
       "    </tr>\n",
       "    <tr>\n",
       "      <th>75%</th>\n",
       "      <td>2.561311e+06</td>\n",
       "      <td>3.793500e+04</td>\n",
       "      <td>1.100000e+01</td>\n",
       "      <td>1.000000e+00</td>\n",
       "    </tr>\n",
       "    <tr>\n",
       "      <th>max</th>\n",
       "      <td>3.421079e+06</td>\n",
       "      <td>4.969400e+04</td>\n",
       "      <td>6.400000e+01</td>\n",
       "      <td>1.000000e+00</td>\n",
       "    </tr>\n",
       "  </tbody>\n",
       "</table>\n",
       "</div>"
      ],
      "text/plain": [
       "           order_id    product_id  add_to_cart_order     reordered\n",
       "count  4.545007e+06  4.545007e+06       4.544171e+06  4.545007e+06\n",
       "mean   1.711166e+06  2.558084e+04       8.351669e+00  5.905025e-01\n",
       "std    9.850955e+05  1.409552e+04       7.080368e+00  4.917411e-01\n",
       "min    4.000000e+00  1.000000e+00       1.000000e+00  0.000000e+00\n",
       "25%    8.608170e+05  1.353500e+04       3.000000e+00  0.000000e+00\n",
       "50%    1.711530e+06  2.527200e+04       6.000000e+00  1.000000e+00\n",
       "75%    2.561311e+06  3.793500e+04       1.100000e+01  1.000000e+00\n",
       "max    3.421079e+06  4.969400e+04       6.400000e+01  1.000000e+00"
      ]
     },
     "execution_count": 32,
     "metadata": {},
     "output_type": "execute_result"
    }
   ],
   "source": [
    "# What are the min and max values in this column?\n",
    "df_order_products.describe() "
   ]
  },
  {
   "cell_type": "code",
   "execution_count": 33,
   "id": "ab9d0c2b",
   "metadata": {},
   "outputs": [],
   "source": [
    "# Save all order IDs with at least one missing value in 'add_to_cart_order'\n",
    "missing_order_ids = df_order_products[df_order_products['add_to_cart_order'].isnull()]['order_id'].unique().tolist()\n",
    "\n",
    "# Select all the entries attributed to those order IDs into a separate dataframe\n",
    "filtered_df = df_order_products[df_order_products['order_id'].isin(missing_order_ids)]\n",
    "\n",
    "# Group this new dataframe by order ID and check sizes of those groups - to find minimum size\n",
    "group_sizes = filtered_df.groupby('order_id').size()\n",
    "\n",
    "\n"
   ]
  },
  {
   "cell_type": "code",
   "execution_count": 34,
   "id": "54c31695",
   "metadata": {},
   "outputs": [
    {
     "name": "stdout",
     "output_type": "stream",
     "text": [
      "65\n"
     ]
    }
   ],
   "source": [
    "# Do all orders with missing values have more than 64 products?\n",
    "min_group_size = group_sizes.min()\n",
    "\n",
    "print(min_group_size)"
   ]
  },
  {
   "cell_type": "markdown",
   "id": "e4026551",
   "metadata": {},
   "source": [
    "<div class=\"alert alert-success\"; style=\"border-left: 7px solid green\">\n",
    "<b>✅ Reviewer's comment, v. 2</b> \n",
    "    \n",
    "✔️ Well done.\n",
    "   \n",
    "As we also checked before and saw that in the dataset the maximum add-to-cart-order number is 64, it looks like there is a problem of assigning an add-to-cart-order number if the item is added to the cart after 64th. Probably, it is some technical issue. \n",
    "    \n",
    "<div class=\"alert alert-danger\"; style=\"border-left: 7px solid red\">\n",
    "<b>⛔️ Reviewer's comment, v. 1</b> \n",
    "\n",
    "To answer the question you need to: \n",
    "    \n",
    "1. Save the IDs of the orders with missing `add_to_cart_order` to a list. \n",
    "2. Select all the entries attributed to those order IDs into a separate dataframe.\n",
    "3. Group this new dataframe by order ID and check sizes of those groups - to find the minimum size.\n",
    "    \n",
    "Could you please try to do this?"
   ]
  },
  {
   "cell_type": "code",
   "execution_count": 35,
   "id": "7a987d08",
   "metadata": {},
   "outputs": [],
   "source": [
    "# Replace missing values with 999 and convert column to integer type\n",
    "df_order_products['add_to_cart_order'] = df_order_products['add_to_cart_order'].fillna(999)\n",
    "df_order_products['add_to_cart_order'] = df_order_products['add_to_cart_order'].astype(int)"
   ]
  },
  {
   "cell_type": "markdown",
   "id": "fea4bcc7",
   "metadata": {},
   "source": [
    "This section saves all order IDs with atleast one missing value and add them to the 'add_to_cart_order'. We then change the missing values to 999 and convert the column to integer."
   ]
  },
  {
   "cell_type": "markdown",
   "id": "turkish-kidney",
   "metadata": {},
   "source": [
    "# [A] Easy (must complete all to pass)"
   ]
  },
  {
   "cell_type": "markdown",
   "id": "short-capability",
   "metadata": {},
   "source": [
    "### [A1] Verify that the `'order_hour_of_day'` and `'order_dow'` values in the `orders` tables are sensible (i.e. `'order_hour_of_day'` ranges from 0 to 23 and `'order_dow'` ranges from 0 to 6)"
   ]
  },
  {
   "cell_type": "code",
   "execution_count": 36,
   "id": "growing-fruit",
   "metadata": {},
   "outputs": [
    {
     "name": "stdout",
     "output_type": "stream",
     "text": [
      "Empty DataFrame\n",
      "Columns: [order_id, user_id, order_number, order_dow, order_hour_of_day, days_since_prior_order]\n",
      "Index: []\n"
     ]
    }
   ],
   "source": [
    "invalid_hour_of_day = df_orders[~df_orders['order_hour_of_day'].between(0, 23)]\n",
    "print(invalid_hour_of_day)"
   ]
  },
  {
   "cell_type": "code",
   "execution_count": 37,
   "id": "accessory-malaysia",
   "metadata": {},
   "outputs": [
    {
     "name": "stdout",
     "output_type": "stream",
     "text": [
      "Empty DataFrame\n",
      "Columns: [order_id, user_id, order_number, order_dow, order_hour_of_day, days_since_prior_order]\n",
      "Index: []\n"
     ]
    }
   ],
   "source": [
    "invalid_dow = df_orders[~df_orders['order_dow'].between(0, 6)]\n",
    "print(invalid_dow)"
   ]
  },
  {
   "cell_type": "markdown",
   "id": "6a46a088",
   "metadata": {},
   "source": [
    "<div class=\"alert alert-success\"; style=\"border-left: 7px solid green\">\n",
    "<b>✅ Reviewer's comment, v. 2</b> \n",
    "    \n",
    "✔️ It would be good to leave a comment saying what you saw from the checks above. \n",
    "    \n",
    "\n",
    "\n",
    "<div class=\"alert alert-danger\"; style=\"border-left: 7px solid red\">\n",
    "<b>⛔️ Reviewer's comment, v. 1</b> \n",
    "\n",
    "Please confirm that all the values are sensible. Now, it's not clear. And please note that you need to use different code to check dow and to check hour_of_day."
   ]
  },
  {
   "cell_type": "markdown",
   "id": "a6743a70",
   "metadata": {},
   "source": [
    "### [A2] What time of day do people shop for groceries?"
   ]
  },
  {
   "cell_type": "code",
   "execution_count": 38,
   "id": "a36cca27",
   "metadata": {},
   "outputs": [
    {
     "data": {
      "image/png": "[encoded data removed]",
      "text/plain": [
       "<Figure size 1000x600 with 1 Axes>"
      ]
     },
     "metadata": {},
     "output_type": "display_data"
    }
   ],
   "source": [
    "# Aggregate data by 'order_hour_of_day'\n",
    "hourly_counts = df_orders['order_hour_of_day'].value_counts().sort_index()\n",
    "\n",
    "# Plot the data\n",
    "plt.figure(figsize=(10, 6))\n",
    "hourly_counts.plot(kind='bar', color='skyblue')\n",
    "plt.title('Number of Orders by Hour of Day')\n",
    "plt.xlabel('Hour of Day')\n",
    "plt.ylabel('Number of Orders')\n",
    "plt.xticks(range(24), [f'{i:02d}:00' for i in range(24)], rotation=45)\n",
    "plt.grid(axis='y', linestyle='--', alpha=0.7)\n",
    "plt.tight_layout()\n",
    "\n",
    "# Show the plot\n",
    "plt.show()"
   ]
  },
  {
   "cell_type": "markdown",
   "id": "11270eed",
   "metadata": {},
   "source": [
    "According to the chart, you can see most of the orders occur between 8:00 and 18:00 during the day."
   ]
  },
  {
   "cell_type": "markdown",
   "id": "c7c4762e",
   "metadata": {},
   "source": [
    "<div class=\"alert alert-success\"; style=\"border-left: 7px solid green\">\n",
    "<b>✅ Reviewer's comment, v. 2</b> \n",
    "    \n",
    "✔️ Excellent chart. You made a good conclusion also.\n",
    "    \n",
    "\n",
    "\n",
    "<div class=\"alert alert-danger\"; style=\"border-left: 7px solid red\">\n",
    "<b>⛔️ Reviewer's comment, v. 1</b> \n",
    "\n",
    "Please note that here and in the next two questions you also need to plot charts. Could you pplease add them?"
   ]
  },
  {
   "cell_type": "markdown",
   "id": "documented-command",
   "metadata": {},
   "source": [
    "### [A3] What day of the week do people shop for groceries?"
   ]
  },
  {
   "cell_type": "code",
   "execution_count": 39,
   "id": "chief-digit",
   "metadata": {},
   "outputs": [
    {
     "data": {
      "image/png": "[encoded data removed]",
      "text/plain": [
       "<Figure size 1000x600 with 1 Axes>"
      ]
     },
     "metadata": {},
     "output_type": "display_data"
    }
   ],
   "source": [
    "# Aggregate data by 'order_dow'\n",
    "dow_counts = df_orders['order_dow'].value_counts().sort_index()\n",
    "\n",
    "# Map day of the week numbers to names\n",
    "dow_names = ['Sunday', 'Monday', 'Tuesday', 'Wednesday', 'Thursday', 'Friday', 'Saturday']\n",
    "dow_counts.index = [dow_names[i] for i in dow_counts.index]\n",
    "\n",
    "# Plot the data\n",
    "plt.figure(figsize=(10, 6))\n",
    "dow_counts.plot(kind='bar', color='lightgreen')\n",
    "plt.title('Number of Orders by Day of Week')\n",
    "plt.xlabel('Day of the Week')\n",
    "plt.ylabel('Number of Orders')\n",
    "plt.xticks(rotation=45)\n",
    "plt.grid(axis='y', linestyle='--', alpha=0.7)\n",
    "plt.tight_layout()\n",
    "\n",
    "# Show the plot\n",
    "plt.show()"
   ]
  },
  {
   "cell_type": "markdown",
   "id": "dominant-lightning",
   "metadata": {},
   "source": [
    "According to the chart you can see that the days with the most number of orders occur on Sunday and Monday, with the most being on Sunday."
   ]
  },
  {
   "cell_type": "markdown",
   "id": "3184fd4a",
   "metadata": {},
   "source": [
    "<div class=\"alert alert-success\"; style=\"border-left: 7px solid green\">\n",
    "<b>✅ Reviewer's comment, v. 2</b> \n",
    "    \n",
    "✔️ You are absolutely right.\n",
    "    \n",
    "\n",
    "\n"
   ]
  },
  {
   "cell_type": "markdown",
   "id": "cutting-concert",
   "metadata": {},
   "source": [
    "### [A4] How long do people wait until placing another order?"
   ]
  },
  {
   "cell_type": "code",
   "execution_count": 43,
   "id": "c231f523",
   "metadata": {},
   "outputs": [
    {
     "data": {
      "image/png": "[encoded data removed]",
      "text/plain": [
       "<Figure size 1000x600 with 1 Axes>"
      ]
     },
     "metadata": {},
     "output_type": "display_data"
    }
   ],
   "source": [
    "# Assuming your DataFrame is named df and the column is 'days_since_prior_order'\n",
    "days = df_orders['days_since_prior_order'].dropna().values\n",
    "\n",
    "# Plotting the histogram using matplotlib\n",
    "plt.figure(figsize=(10, 6))\n",
    "plt.hist(days, bins=30, edgecolor='black')\n",
    "\n",
    "# Adding titles and labels\n",
    "plt.title('Distribution of Days Since Prior Order')\n",
    "plt.xlabel('Days Since Prior Order')\n",
    "plt.ylabel('Frequency')\n",
    "\n",
    "# Display the plot\n",
    "plt.show()"
   ]
  },
  {
   "cell_type": "markdown",
   "id": "4679a728",
   "metadata": {},
   "source": [
    "<div class=\"alert alert-success\"; style=\"border-left: 7px solid green\">\n",
    "<b>✅ Reviewer's comment, v. 3</b> \n",
    "    \n",
    "✔️ \n",
    "    \n",
    "\n",
    "\n",
    "<div class=\"alert alert-danger\"; style=\"border-left: 7px solid red\">\n",
    "<b>⛔️ Reviewer's comment, v. 2</b> \n",
    "\n",
    "Could you please fix the error here?"
   ]
  },
  {
   "cell_type": "markdown",
   "id": "discrete-vertex",
   "metadata": {},
   "source": [
    "According to the graph, the majority of people wait 2-10 days to order again. The data is skewed to the right which means the mean is greater than the median. As well as an outlier which will increase the mean."
   ]
  },
  {
   "cell_type": "markdown",
   "id": "c9d4321b",
   "metadata": {},
   "source": [
    "<div class=\"alert alert-warning\"; style=\"border-left: 7px solid gold\">\n",
    "<b>⚠️ Reviewer's comment, v. 1</b> \n",
    "\n",
    "Please use Markdown type of cells for the comments and conclusions. In the code cells only a short comments for the code are made.\n",
    "    \n",
    "To change the cell type for Markdown please use the upper navigation bar - create a new cell with `+` button, step on it and change Raw to Markdown in the dropdown menu."
   ]
  },
  {
   "cell_type": "markdown",
   "id": "tight-staff",
   "metadata": {},
   "source": [
    "# [B] Medium (must complete all to pass)"
   ]
  },
  {
   "cell_type": "markdown",
   "id": "packed-classic",
   "metadata": {},
   "source": [
    "### [B1] Is there a difference in `'order_hour_of_day'` distributions on Wednesdays and Saturdays? Plot the histograms for both days and describe the differences that you see."
   ]
  },
  {
   "cell_type": "code",
   "execution_count": 41,
   "id": "d89b8403",
   "metadata": {},
   "outputs": [],
   "source": [
    "df_wednesday = df_orders[df_orders['order_dow'] == 3]"
   ]
  },
  {
   "cell_type": "markdown",
   "id": "40345a4a",
   "metadata": {},
   "source": [
    "<div class=\"alert alert-success\"; style=\"border-left: 7px solid green\">\n",
    "<b>✅ Reviewer's comment, v. 2</b> \n",
    "    \n",
    "✔️ \n",
    "    \n",
    "\n",
    "\n",
    "<div class=\"alert alert-danger\"; style=\"border-left: 7px solid red\">\n",
    "<b>⛔️ Reviewer's comment, v. 1</b> \n",
    "\n",
    "Please note that if Saturday is dow == 6, then Wednesday is dow == 3. Could you please correct?"
   ]
  },
  {
   "cell_type": "code",
   "execution_count": 42,
   "id": "94e54e8a",
   "metadata": {},
   "outputs": [],
   "source": [
    "df_saturday = df_orders[df_orders['order_dow'] == 6]"
   ]
  },
  {
   "cell_type": "code",
   "execution_count": 43,
   "id": "797c90a8",
   "metadata": {},
   "outputs": [
    {
     "data": {
      "text/plain": [
       "Text(0, 0.5, 'Frequency')"
      ]
     },
     "execution_count": 43,
     "metadata": {},
     "output_type": "execute_result"
    },
    {
     "data": {
      "image/png": "[encoded data removed]",
      "text/plain": [
       "<Figure size 1200x600 with 1 Axes>"
      ]
     },
     "metadata": {},
     "output_type": "display_data"
    }
   ],
   "source": [
    "plt.figure(figsize=(12, 6))\n",
    "plt.subplot(1, 2, 1)\n",
    "plt.hist(df_wednesday['order_hour_of_day'], bins=range(25), edgecolor='black', alpha=0.7)\n",
    "plt.title('Order Hour Distribution on Wednesday')\n",
    "plt.xlabel('Hour of Day')\n",
    "plt.ylabel('Frequency')"
   ]
  },
  {
   "cell_type": "code",
   "execution_count": 44,
   "id": "35bcea30",
   "metadata": {},
   "outputs": [
    {
     "data": {
      "text/plain": [
       "Text(0, 0.5, 'Frequency')"
      ]
     },
     "execution_count": 44,
     "metadata": {},
     "output_type": "execute_result"
    },
    {
     "data": {
      "image/png": "[encoded data removed]",
      "text/plain": [
       "<Figure size 1200x600 with 1 Axes>"
      ]
     },
     "metadata": {},
     "output_type": "display_data"
    }
   ],
   "source": [
    "plt.figure(figsize=(12, 6))\n",
    "plt.subplot(1, 2, 1)\n",
    "plt.hist(df_saturday['order_hour_of_day'], bins=range(25), edgecolor='black', alpha=0.7)\n",
    "plt.title('Order Hour Distribution on Wednesday')\n",
    "plt.xlabel('Hour of Day')\n",
    "plt.ylabel('Frequency')"
   ]
  },
  {
   "cell_type": "markdown",
   "id": "6d66517b",
   "metadata": {},
   "source": [
    "<div class=\"alert alert-warning\"; style=\"border-left: 7px solid gold\">\n",
    "<b>⚠️ Reviewer's comment, v. 1</b> \n",
    "\n",
    "Please note that if you need to build subplots you need to combine the code in the same cell (please see below)."
   ]
  },
  {
   "cell_type": "code",
   "execution_count": 45,
   "id": "fef6f066",
   "metadata": {},
   "outputs": [
    {
     "data": {
      "image/png": "[encoded data removed]",
      "text/plain": [
       "<Figure size 1000x500 with 2 Axes>"
      ]
     },
     "metadata": {},
     "output_type": "display_data"
    }
   ],
   "source": [
    "#ADDED BY REVIEWER\n",
    "\n",
    "plt.figure(figsize=(10, 5))\n",
    "plt.subplot(1, 2, 1)\n",
    "plt.hist(df_wednesday['order_hour_of_day'], bins=range(25), edgecolor='black', alpha=0.7)\n",
    "plt.title('Order Hour Distribution on Wednesday')\n",
    "plt.xlabel('Hour of Day')\n",
    "plt.ylabel('Frequency')\n",
    "\n",
    "plt.subplot(1, 2, 2)\n",
    "plt.hist(df_saturday['order_hour_of_day'], bins=range(25), edgecolor='black', alpha=0.7)\n",
    "plt.title('Order Hour Distribution on Wednesday')\n",
    "plt.xlabel('Hour of Day')\n",
    "plt.ylabel('Frequency')\n",
    "\n",
    "plt.show()"
   ]
  },
  {
   "cell_type": "markdown",
   "id": "charitable-congo",
   "metadata": {},
   "source": [
    "The histographs above compare the orders based on the hours of the day on a wednesday and saturday. From the graphs, we can see that the shape of it is very similar in that most of the orders are being taken place between the hours of 9-20."
   ]
  },
  {
   "cell_type": "markdown",
   "id": "957126fc",
   "metadata": {},
   "source": [
    "<div class=\"alert alert-warning\"; style=\"border-left: 7px solid gold\">\n",
    "<b>⚠️ Reviewer's comment, v. 2</b> \n",
    "\n",
    "\n",
    "As we were asked about differences it would be good to mention the difference in the period from 12 till 14. \n",
    "\n",
    "    \n",
    "<strike>\n"
   ]
  },
  {
   "cell_type": "markdown",
   "id": "e3891143",
   "metadata": {},
   "source": [
    "### [B2] What's the distribution for the number of orders per customer?"
   ]
  },
  {
   "cell_type": "code",
   "execution_count": 46,
   "id": "d8c26c23",
   "metadata": {},
   "outputs": [
    {
     "data": {
      "image/png": "[encoded data removed]",
      "text/plain": [
       "<Figure size 1000x600 with 1 Axes>"
      ]
     },
     "metadata": {},
     "output_type": "display_data"
    }
   ],
   "source": [
    "orders_per_customer = df_orders.groupby('user_id').size()\n",
    "plt.figure(figsize=(10, 6))\n",
    "plt.hist(orders_per_customer, bins=range(1, orders_per_customer.max() + 2), edgecolor='black', alpha=0.7)\n",
    "plt.title('Distribution of Number of Orders per Customer')\n",
    "plt.xlabel('Number of Orders')\n",
    "plt.ylabel('Number of Customers')\n",
    "plt.xticks(range(1, orders_per_customer.max() + 1))\n",
    "plt.show()"
   ]
  },
  {
   "cell_type": "markdown",
   "id": "ab7a900d",
   "metadata": {},
   "source": [
    "<div class=\"alert alert-success\"; style=\"border-left: 7px solid green\">\n",
    "<b>✅ Reviewer's comment, v. 1</b> \n",
    "    \n",
    "You've plotted an excellent chart with all required elements - a title, axes labels, scales. And made correct conclusions from it."
   ]
  },
  {
   "cell_type": "markdown",
   "id": "d2eff7d5",
   "metadata": {},
   "source": [
    "The distribution shows the number of orders per person and we can see that the number of customers gets smaller the more someone orders."
   ]
  },
  {
   "cell_type": "markdown",
   "id": "54a0319c",
   "metadata": {},
   "source": [
    "### [B3] What are the top 20 popular products (display their id and name)?"
   ]
  },
  {
   "cell_type": "code",
   "execution_count": 47,
   "id": "exterior-arizona",
   "metadata": {
    "scrolled": true
   },
   "outputs": [
    {
     "name": "stdout",
     "output_type": "stream",
     "text": [
      "product_id\n",
      "24852    66050\n",
      "13176    53297\n",
      "21137    37039\n",
      "21903    33971\n",
      "47209    29773\n",
      "47766    24689\n",
      "47626    21495\n",
      "16797    20018\n",
      "26209    19690\n",
      "27845    19600\n",
      "27966    19197\n",
      "22935    15898\n",
      "24964    15292\n",
      "45007    14584\n",
      "39275    13879\n",
      "49683    13675\n",
      "28204    12544\n",
      "5876     12232\n",
      "8277     11993\n",
      "40706    11781\n",
      "Name: order_id, dtype: int64\n"
     ]
    }
   ],
   "source": [
    "# Count the number of orders each product is included in\n",
    "product_order_counts = df_order_products.groupby('product_id')['order_id'].nunique()\n",
    "\n",
    "# Sort by descending order of counts\n",
    "product_order_counts_sorted = product_order_counts.sort_values(ascending=False)\n",
    "print(product_order_counts_sorted.head(20))\n"
   ]
  },
  {
   "cell_type": "code",
   "execution_count": 48,
   "id": "universal-facial",
   "metadata": {},
   "outputs": [
    {
     "name": "stdout",
     "output_type": "stream",
     "text": [
      "    product_id  order_id\n",
      "0        24852     66050\n",
      "1        13176     53297\n",
      "2        21137     37039\n",
      "3        21903     33971\n",
      "4        47209     29773\n",
      "5        47766     24689\n",
      "6        47626     21495\n",
      "7        16797     20018\n",
      "8        26209     19690\n",
      "9        27845     19600\n",
      "10       27966     19197\n",
      "11       22935     15898\n",
      "12       24964     15292\n",
      "13       45007     14584\n",
      "14       39275     13879\n",
      "15       49683     13675\n",
      "16       28204     12544\n",
      "17        5876     12232\n",
      "18        8277     11993\n",
      "19       40706     11781\n"
     ]
    }
   ],
   "source": [
    "# Get the top 20 products by number of orders\n",
    "top_products = product_order_counts.nlargest(20).reset_index()\n",
    "print(top_products)"
   ]
  },
  {
   "cell_type": "code",
   "execution_count": 49,
   "id": "bbcdd20b",
   "metadata": {},
   "outputs": [
    {
     "name": "stdout",
     "output_type": "stream",
     "text": [
      "Top 20 Popular Products:\n",
      "    product_id              product_name\n",
      "0        24852                    Banana\n",
      "1        13176    Bag of Organic Bananas\n",
      "2        21137      Organic Strawberries\n",
      "3        21903      Organic Baby Spinach\n",
      "4        47209      Organic Hass Avocado\n",
      "5        47766           Organic Avocado\n",
      "6        47626               Large Lemon\n",
      "7        16797              Strawberries\n",
      "8        26209                     Limes\n",
      "9        27845        Organic Whole Milk\n",
      "10       27966       Organic Raspberries\n",
      "11       22935      Organic Yellow Onion\n",
      "12       24964            Organic Garlic\n",
      "13       45007          Organic Zucchini\n",
      "14       39275       Organic Blueberries\n",
      "15       49683            Cucumber Kirby\n",
      "16       28204        Organic Fuji Apple\n",
      "17        5876             Organic Lemon\n",
      "18        8277  Apple Honeycrisp Organic\n",
      "19       40706    Organic Grape Tomatoes\n"
     ]
    }
   ],
   "source": [
    "# Select the top 20 products\n",
    "top_20_products = top_products.head(20)\n",
    "\n",
    "# Merge with product details to get names\n",
    "top_products_details = top_products.merge(df_products, on='product_id')\n",
    "\n",
    "# Display the top 20 products with their id and name\n",
    "print(\"Top 20 Popular Products:\")\n",
    "print(top_products_details[['product_id', 'product_name']])"
   ]
  },
  {
   "cell_type": "markdown",
   "id": "78146c20",
   "metadata": {},
   "source": [
    "<div class=\"alert alert-success\"; style=\"border-left: 7px solid green\">\n",
    "<b>✅ Reviewer's comment, v. 2</b> \n",
    "    \n",
    "✔️ This is correct list.\n",
    "    \n",
    "\n",
    "\n",
    "<div class=\"alert alert-danger\"; style=\"border-left: 7px solid red\">\n",
    "<b>⛔️ Reviewer's comment, v. 1</b> \n",
    "\n",
    "`df_products` is just a products dictionary. To find out which products are sold most often you need to use the dataframe with product sales, which is `df_order_products`. So, could you please update the section?"
   ]
  },
  {
   "cell_type": "markdown",
   "id": "7df00f47",
   "metadata": {},
   "source": [
    "In the above code, we count the number of orders a product has in df_order_products, sort them in descending order, and then merge the product_id column with the product_name column in df_products to get the product names based on their id number."
   ]
  },
  {
   "cell_type": "markdown",
   "id": "gross-theme",
   "metadata": {},
   "source": [
    "# [C] Hard (must complete at least two to pass)"
   ]
  },
  {
   "cell_type": "markdown",
   "id": "romantic-deposit",
   "metadata": {},
   "source": [
    "### [C1] How many items do people typically buy in one order? What does the distribution look like?"
   ]
  },
  {
   "cell_type": "code",
   "execution_count": 50,
   "id": "virtual-punch",
   "metadata": {},
   "outputs": [
    {
     "name": "stdout",
     "output_type": "stream",
     "text": [
      "order_id\n",
      "4          13\n",
      "9          15\n",
      "11          5\n",
      "19          3\n",
      "20          8\n",
      "           ..\n",
      "3421034    17\n",
      "3421053     9\n",
      "3421071     5\n",
      "3421077     4\n",
      "3421079     1\n",
      "Length: 450046, dtype: int64\n"
     ]
    }
   ],
   "source": [
    "# Calculate the number of items per order\n",
    "items_per_order = df_order_products.groupby('order_id').size()\n",
    "print(items_per_order)"
   ]
  },
  {
   "cell_type": "code",
   "execution_count": 51,
   "id": "sensitive-breathing",
   "metadata": {},
   "outputs": [
    {
     "data": {
      "image/png": "[encoded data removed]",
      "text/plain": [
       "<Figure size 1200x600 with 1 Axes>"
      ]
     },
     "metadata": {},
     "output_type": "display_data"
    }
   ],
   "source": [
    "# Plot the distribution of the number of items per order\n",
    "plt.figure(figsize=(12, 6))\n",
    "plt.hist(items_per_order, bins=range(1, items_per_order.max() + 2), color='skyblue', edgecolor='black')\n",
    "plt.title('Distribution of Number of Items per Order')\n",
    "plt.xlabel('Number of Items per Order')\n",
    "plt.ylabel('Frequency')\n",
    "plt.grid(axis='y', linestyle='--', alpha=0.7)\n",
    "plt.tight_layout()\n",
    "\n",
    "# Show the plot\n",
    "plt.show()"
   ]
  },
  {
   "cell_type": "code",
   "execution_count": null,
   "id": "completed-frank",
   "metadata": {},
   "outputs": [],
   "source": []
  },
  {
   "cell_type": "markdown",
   "id": "designed-mortality",
   "metadata": {},
   "source": [
    "People typically buy 1-20 items in one order."
   ]
  },
  {
   "cell_type": "markdown",
   "id": "deed5d98",
   "metadata": {},
   "source": [
    "<div class=\"alert alert-success\"; style=\"border-left: 7px solid green\">\n",
    "<b>✅ Reviewer's comment, v. 2</b> \n",
    "    \n",
    "✔️ Well done - the chart and conclusion are correct.\n",
    "    \n",
    "\n",
    "\n",
    "<div class=\"alert alert-danger\"; style=\"border-left: 7px solid red\">\n",
    "<b>⛔️ Reviewer's comment, v. 1</b> \n",
    "\n",
    "To get the number of products in each order, you need to group by order ID. Could you please update the task here?"
   ]
  },
  {
   "cell_type": "markdown",
   "id": "5e6b5537",
   "metadata": {},
   "source": [
    "### [C2] What are the top 20 items that are reordered most frequently (display their names and product IDs)?"
   ]
  },
  {
   "cell_type": "code",
   "execution_count": 52,
   "id": "9374e55a",
   "metadata": {},
   "outputs": [
    {
     "name": "stdout",
     "output_type": "stream",
     "text": [
      "         order_id  product_id  add_to_cart_order  reordered\n",
      "1          567889        1560                  1          1\n",
      "2         2261212       26683                  1          1\n",
      "3          491251        8670                 35          1\n",
      "4         2571142        1940                  5          1\n",
      "5         2456893       21616                  4          1\n",
      "...           ...         ...                ...        ...\n",
      "4544999   1622300       24852                  1          1\n",
      "4545000   1125324       40600                  6          1\n",
      "4545002    577211       15290                 12          1\n",
      "4545004    692640       47766                  4          1\n",
      "4545005    319435         691                  8          1\n",
      "\n",
      "[2683838 rows x 4 columns]\n"
     ]
    }
   ],
   "source": [
    "# Filter for reordered items\n",
    "df_reordered = df_order_products[df_order_products['reordered'] > 0]\n",
    "print(df_reordered)"
   ]
  },
  {
   "cell_type": "code",
   "execution_count": 53,
   "id": "possible-change",
   "metadata": {
    "scrolled": true
   },
   "outputs": [],
   "source": [
    "# Count the number of reorders per product\n",
    "reorder_counts = df_reordered['product_id'].value_counts().reset_index()\n",
    "reorder_counts.columns = ['product_id', 'reorder_count']"
   ]
  },
  {
   "cell_type": "code",
   "execution_count": 54,
   "id": "professional-surfing",
   "metadata": {
    "scrolled": true
   },
   "outputs": [],
   "source": [
    "# Merge with product details to get product names\n",
    "top_reordered_products = pd.merge(reorder_counts, df_products, on='product_id')"
   ]
  },
  {
   "cell_type": "code",
   "execution_count": 55,
   "id": "48dd3658",
   "metadata": {},
   "outputs": [
    {
     "name": "stdout",
     "output_type": "stream",
     "text": [
      "Top 20 Reordered Products:\n",
      "    product_id              product_name\n",
      "0        24852                    Banana\n",
      "1        13176    Bag of Organic Bananas\n",
      "2        21137      Organic Strawberries\n",
      "3        21903      Organic Baby Spinach\n",
      "4        47209      Organic Hass Avocado\n",
      "5        47766           Organic Avocado\n",
      "6        27845        Organic Whole Milk\n",
      "7        47626               Large Lemon\n",
      "8        27966       Organic Raspberries\n",
      "9        16797              Strawberries\n",
      "10       26209                     Limes\n",
      "11       22935      Organic Yellow Onion\n",
      "12       24964            Organic Garlic\n",
      "13       45007          Organic Zucchini\n",
      "14       49683            Cucumber Kirby\n",
      "15       28204        Organic Fuji Apple\n",
      "16        8277  Apple Honeycrisp Organic\n",
      "17       39275       Organic Blueberries\n",
      "18        5876             Organic Lemon\n",
      "19       49235       Organic Half & Half\n"
     ]
    }
   ],
   "source": [
    "# Select the top 20 products\n",
    "top_20_reordered = top_reordered_products.head(20)\n",
    "\n",
    "# Display the top 20 reordered products with their id and name\n",
    "print(\"Top 20 Reordered Products:\")\n",
    "print(top_20_reordered[['product_id', 'product_name']])"
   ]
  },
  {
   "cell_type": "markdown",
   "id": "9ec045b5",
   "metadata": {},
   "source": [
    "<div class=\"alert alert-success\"; style=\"border-left: 7px solid green\">\n",
    "<b>✅ Reviewer's comment, v. 2</b> \n",
    "    \n",
    "✔️ All correct now.\n",
    "    \n",
    "\n",
    "\n",
    "<div class=\"alert alert-danger\"; style=\"border-left: 7px solid red\">\n",
    "<b>⛔️ Reviewer's comment, v. 1</b> \n",
    "\n",
    "You are using a wrong dataframe here. Could you please fix the errors here and below?"
   ]
  },
  {
   "cell_type": "markdown",
   "id": "80e70c74",
   "metadata": {},
   "source": []
  },
  {
   "cell_type": "markdown",
   "id": "9d312b14",
   "metadata": {},
   "source": [
    "### [C3] For each product, what proportion of its orders are reorders?"
   ]
  },
  {
   "cell_type": "code",
   "execution_count": null,
   "id": "8ae9f4b1",
   "metadata": {},
   "outputs": [],
   "source": []
  },
  {
   "cell_type": "code",
   "execution_count": null,
   "id": "103e7fe1",
   "metadata": {},
   "outputs": [],
   "source": []
  },
  {
   "cell_type": "code",
   "execution_count": null,
   "id": "social-individual",
   "metadata": {},
   "outputs": [],
   "source": []
  },
  {
   "cell_type": "markdown",
   "id": "subject-boxing",
   "metadata": {},
   "source": [
    "### [C4] For each customer, what proportion of their products ordered are reorders?"
   ]
  },
  {
   "cell_type": "code",
   "execution_count": null,
   "id": "medical-couple",
   "metadata": {
    "scrolled": true
   },
   "outputs": [],
   "source": []
  },
  {
   "cell_type": "code",
   "execution_count": null,
   "id": "8892e4b4",
   "metadata": {},
   "outputs": [],
   "source": []
  },
  {
   "cell_type": "markdown",
   "id": "92d35137",
   "metadata": {},
   "source": [
    "### [C5] What are the top 20 items that people put in their carts first? "
   ]
  },
  {
   "cell_type": "code",
   "execution_count": null,
   "id": "0ae57274",
   "metadata": {
    "scrolled": true
   },
   "outputs": [],
   "source": []
  },
  {
   "cell_type": "code",
   "execution_count": null,
   "id": "forty-netherlands",
   "metadata": {
    "scrolled": true
   },
   "outputs": [],
   "source": []
  },
  {
   "cell_type": "code",
   "execution_count": null,
   "id": "08e41ec2",
   "metadata": {},
   "outputs": [],
   "source": []
  },
  {
   "cell_type": "markdown",
   "id": "28ce9872",
   "metadata": {},
   "source": [
    "The overall conclusion of this analysis is that most people order on Instacart on Sundays and it descends the further in the week you go. They also, on average, will order 1-20 times each time and the frequency in which they reorder is about 7 days, which makes sense considering the week is 7 days long."
   ]
  },
  {
   "cell_type": "code",
   "execution_count": null,
   "id": "f4a2af09",
   "metadata": {},
   "outputs": [],
   "source": []
  },
  {
   "cell_type": "markdown",
   "id": "1be449fe",
   "metadata": {},
   "source": [
    "<div class=\"alert alert-warning\"; style=\"border-left: 7px solid gold\">\n",
    "<b>⚠️ Reviewer's comment, v. 2</b> \n",
    "\n",
    "\n",
    "Ok, good. Please note that you can be write a bit more details in the summary. In many cases, the summary will be the first (or the only) section your customer will read. So, it is reasonable to include all the major takeaways here.    \n",
    "\n",
    "    \n",
    "<div class=\"alert alert-danger\"; style=\"border-left: 7px solid red\">\n",
    "<b>⛔️ Reviewer's comment, v. 1</b> \n",
    "\n",
    "Could you please add an overall conclusion summarising the main results of the analysis?"
   ]
  }
 ],
 "metadata": {
  "ExecuteTimeLog": [
   {
    "duration": 428,
    "start_time": "2024-08-09T12:40:22.697Z"
   },
   {
    "duration": 3840,
    "start_time": "2024-08-09T12:42:54.260Z"
   },
   {
    "duration": 1053,
    "start_time": "2024-08-09T12:43:54.177Z"
   },
   {
    "duration": 437,
    "start_time": "2024-08-09T12:44:17.451Z"
   },
   {
    "duration": 86,
    "start_time": "2024-08-09T12:44:42.733Z"
   },
   {
    "duration": 3354,
    "start_time": "2024-08-09T12:45:17.879Z"
   },
   {
    "duration": 8,
    "start_time": "2024-08-09T12:45:53.961Z"
   },
   {
    "duration": 10,
    "start_time": "2024-08-09T12:46:28.421Z"
   },
   {
    "duration": 3175,
    "start_time": "2024-08-09T12:51:14.900Z"
   },
   {
    "duration": 7,
    "start_time": "2024-08-09T12:52:23.017Z"
   },
   {
    "duration": 1329,
    "start_time": "2024-08-09T12:52:48.354Z"
   },
   {
    "duration": 7,
    "start_time": "2024-08-09T12:52:52.487Z"
   },
   {
    "duration": 387,
    "start_time": "2024-08-09T12:54:18.616Z"
   },
   {
    "duration": 45,
    "start_time": "2024-08-09T12:54:19.045Z"
   },
   {
    "duration": 1242,
    "start_time": "2024-08-09T12:54:19.452Z"
   },
   {
    "duration": 7,
    "start_time": "2024-08-09T12:54:20.698Z"
   },
   {
    "duration": 7,
    "start_time": "2024-08-09T12:54:20.935Z"
   },
   {
    "duration": 4,
    "start_time": "2024-08-09T12:54:24.064Z"
   },
   {
    "duration": 4,
    "start_time": "2024-08-09T12:54:25.683Z"
   },
   {
    "duration": 405,
    "start_time": "2024-08-09T12:54:26.027Z"
   },
   {
    "duration": 47,
    "start_time": "2024-08-09T12:54:26.435Z"
   },
   {
    "duration": 1238,
    "start_time": "2024-08-09T12:54:26.967Z"
   },
   {
    "duration": 7,
    "start_time": "2024-08-09T12:54:28.209Z"
   },
   {
    "duration": 6,
    "start_time": "2024-08-09T12:54:28.235Z"
   },
   {
    "duration": 242,
    "start_time": "2024-08-09T12:54:32.452Z"
   },
   {
    "duration": 6,
    "start_time": "2024-08-09T12:54:34.433Z"
   },
   {
    "duration": 199,
    "start_time": "2024-08-09T12:54:49.102Z"
   },
   {
    "duration": 8,
    "start_time": "2024-08-09T12:54:53.360Z"
   },
   {
    "duration": 142,
    "start_time": "2024-08-09T12:54:55.923Z"
   },
   {
    "duration": 7,
    "start_time": "2024-08-09T12:54:58.392Z"
   },
   {
    "duration": 3,
    "start_time": "2024-08-09T12:55:18.874Z"
   },
   {
    "duration": 3,
    "start_time": "2024-08-09T12:55:19.151Z"
   },
   {
    "duration": 184,
    "start_time": "2024-08-09T12:55:19.350Z"
   },
   {
    "duration": 43,
    "start_time": "2024-08-09T12:55:19.595Z"
   },
   {
    "duration": 1237,
    "start_time": "2024-08-09T12:55:19.864Z"
   },
   {
    "duration": 7,
    "start_time": "2024-08-09T12:55:21.104Z"
   },
   {
    "duration": 19,
    "start_time": "2024-08-09T12:55:21.114Z"
   },
   {
    "duration": 143,
    "start_time": "2024-08-09T12:55:21.779Z"
   },
   {
    "duration": 8,
    "start_time": "2024-08-09T12:55:22.563Z"
   },
   {
    "duration": 22,
    "start_time": "2024-08-09T12:57:49.639Z"
   },
   {
    "duration": 5,
    "start_time": "2024-08-09T12:57:56.564Z"
   },
   {
    "duration": 587,
    "start_time": "2024-08-09T12:59:30.612Z"
   },
   {
    "duration": 7,
    "start_time": "2024-08-09T13:01:27.718Z"
   },
   {
    "duration": 5,
    "start_time": "2024-08-09T13:03:10.896Z"
   },
   {
    "duration": 54,
    "start_time": "2024-08-09T13:03:23.693Z"
   },
   {
    "duration": 29,
    "start_time": "2024-08-09T13:04:07.915Z"
   },
   {
    "duration": 10,
    "start_time": "2024-08-09T13:04:16.011Z"
   },
   {
    "duration": 10,
    "start_time": "2024-08-09T13:04:44.180Z"
   },
   {
    "duration": 7,
    "start_time": "2024-08-09T13:07:29.255Z"
   },
   {
    "duration": 21,
    "start_time": "2024-08-09T13:09:04.964Z"
   },
   {
    "duration": 1277,
    "start_time": "2024-08-09T13:09:23.099Z"
   },
   {
    "duration": 712,
    "start_time": "2024-08-09T13:09:42.292Z"
   },
   {
    "duration": 6,
    "start_time": "2024-08-09T13:10:35.827Z"
   },
   {
    "duration": 11,
    "start_time": "2024-08-09T13:10:47.610Z"
   },
   {
    "duration": 11,
    "start_time": "2024-08-09T13:11:27.888Z"
   },
   {
    "duration": 93,
    "start_time": "2024-08-09T13:14:03.028Z"
   },
   {
    "duration": 17,
    "start_time": "2024-08-09T13:14:25.487Z"
   },
   {
    "duration": 6,
    "start_time": "2024-08-09T13:16:37.093Z"
   },
   {
    "duration": 161,
    "start_time": "2024-08-09T13:17:44.440Z"
   },
   {
    "duration": 4,
    "start_time": "2024-08-09T13:25:40.970Z"
   },
   {
    "duration": 3,
    "start_time": "2024-08-09T13:25:41.446Z"
   },
   {
    "duration": 199,
    "start_time": "2024-08-09T13:25:42.026Z"
   },
   {
    "duration": 45,
    "start_time": "2024-08-09T13:25:42.565Z"
   },
   {
    "duration": 1256,
    "start_time": "2024-08-09T13:25:43.081Z"
   },
   {
    "duration": 8,
    "start_time": "2024-08-09T13:25:44.340Z"
   },
   {
    "duration": 8,
    "start_time": "2024-08-09T13:25:44.351Z"
   },
   {
    "duration": 164,
    "start_time": "2024-08-09T13:25:47.135Z"
   },
   {
    "duration": 155,
    "start_time": "2024-08-09T13:26:22.910Z"
   },
   {
    "duration": 282,
    "start_time": "2024-08-09T13:26:48.311Z"
   },
   {
    "duration": 148,
    "start_time": "2024-08-09T13:27:22.366Z"
   },
   {
    "duration": 146,
    "start_time": "2024-08-09T13:27:32.076Z"
   },
   {
    "duration": 7,
    "start_time": "2024-08-09T13:27:59.865Z"
   },
   {
    "duration": 153,
    "start_time": "2024-08-09T13:28:03.235Z"
   },
   {
    "duration": 5,
    "start_time": "2024-08-09T13:30:20.783Z"
   },
   {
    "duration": 136,
    "start_time": "2024-08-09T13:30:30.085Z"
   },
   {
    "duration": 5,
    "start_time": "2024-08-09T13:31:06.351Z"
   },
   {
    "duration": 5,
    "start_time": "2024-08-09T13:31:20.277Z"
   },
   {
    "duration": 136,
    "start_time": "2024-08-09T13:31:27.589Z"
   },
   {
    "duration": 145,
    "start_time": "2024-08-09T13:32:02.553Z"
   },
   {
    "duration": 3,
    "start_time": "2024-08-09T13:32:38.930Z"
   },
   {
    "duration": 3,
    "start_time": "2024-08-09T13:32:39.006Z"
   },
   {
    "duration": 175,
    "start_time": "2024-08-09T13:32:39.187Z"
   },
   {
    "duration": 44,
    "start_time": "2024-08-09T13:32:39.477Z"
   },
   {
    "duration": 1225,
    "start_time": "2024-08-09T13:32:39.660Z"
   },
   {
    "duration": 7,
    "start_time": "2024-08-09T13:32:40.889Z"
   },
   {
    "duration": 9,
    "start_time": "2024-08-09T13:32:40.899Z"
   },
   {
    "duration": 152,
    "start_time": "2024-08-09T13:32:41.954Z"
   },
   {
    "duration": 10,
    "start_time": "2024-08-09T13:33:42.321Z"
   },
   {
    "duration": 150,
    "start_time": "2024-08-09T13:36:37.851Z"
   },
   {
    "duration": 173,
    "start_time": "2024-08-09T13:37:01.230Z"
   },
   {
    "duration": 162,
    "start_time": "2024-08-09T13:37:42.928Z"
   },
   {
    "duration": 14,
    "start_time": "2024-08-09T13:38:30.859Z"
   },
   {
    "duration": 167,
    "start_time": "2024-08-09T13:39:07.532Z"
   },
   {
    "duration": 23,
    "start_time": "2024-08-09T13:39:17.611Z"
   },
   {
    "duration": 191,
    "start_time": "2024-08-09T13:39:21.319Z"
   },
   {
    "duration": 160,
    "start_time": "2024-08-09T13:39:27.749Z"
   },
   {
    "duration": 46,
    "start_time": "2024-08-09T13:39:54.648Z"
   },
   {
    "duration": 171,
    "start_time": "2024-08-09T13:49:56.283Z"
   },
   {
    "duration": 23,
    "start_time": "2024-08-09T13:50:00.624Z"
   },
   {
    "duration": 137,
    "start_time": "2024-08-09T13:50:15.264Z"
   },
   {
    "duration": 38,
    "start_time": "2024-08-09T13:50:27.302Z"
   },
   {
    "duration": 10,
    "start_time": "2024-08-09T13:51:04.971Z"
   },
   {
    "duration": 10,
    "start_time": "2024-08-09T13:51:11.244Z"
   },
   {
    "duration": 12,
    "start_time": "2024-08-09T13:52:01.580Z"
   },
   {
    "duration": 151,
    "start_time": "2024-08-09T13:52:40.377Z"
   },
   {
    "duration": 163,
    "start_time": "2024-08-09T13:52:40.893Z"
   },
   {
    "duration": 47,
    "start_time": "2024-08-09T13:52:41.771Z"
   },
   {
    "duration": 19,
    "start_time": "2024-08-09T15:14:02.994Z"
   },
   {
    "duration": 23,
    "start_time": "2024-08-09T15:14:16.551Z"
   },
   {
    "duration": 50,
    "start_time": "2024-08-09T15:14:35.749Z"
   },
   {
    "duration": 24,
    "start_time": "2024-08-09T15:14:40.975Z"
   },
   {
    "duration": 22,
    "start_time": "2024-08-09T15:15:45.390Z"
   },
   {
    "duration": 4,
    "start_time": "2024-08-09T15:15:50.458Z"
   },
   {
    "duration": 3,
    "start_time": "2024-08-09T15:15:50.655Z"
   },
   {
    "duration": 196,
    "start_time": "2024-08-09T15:15:50.834Z"
   },
   {
    "duration": 52,
    "start_time": "2024-08-09T15:15:51.034Z"
   },
   {
    "duration": 1261,
    "start_time": "2024-08-09T15:15:51.148Z"
   },
   {
    "duration": 7,
    "start_time": "2024-08-09T15:15:52.413Z"
   },
   {
    "duration": 16,
    "start_time": "2024-08-09T15:15:52.422Z"
   },
   {
    "duration": 153,
    "start_time": "2024-08-09T15:15:52.448Z"
   },
   {
    "duration": 11,
    "start_time": "2024-08-09T15:15:53.206Z"
   },
   {
    "duration": 156,
    "start_time": "2024-08-09T15:15:54.011Z"
   },
   {
    "duration": 134,
    "start_time": "2024-08-09T15:15:59.286Z"
   },
   {
    "duration": 37,
    "start_time": "2024-08-09T15:16:00.080Z"
   },
   {
    "duration": 23,
    "start_time": "2024-08-09T15:16:02.808Z"
   },
   {
    "duration": 36,
    "start_time": "2024-08-09T15:16:21.618Z"
   },
   {
    "duration": 36,
    "start_time": "2024-08-09T15:16:46.164Z"
   },
   {
    "duration": 6,
    "start_time": "2024-08-09T15:16:57.799Z"
   },
   {
    "duration": 31,
    "start_time": "2024-08-09T15:17:05.290Z"
   },
   {
    "duration": 25,
    "start_time": "2024-08-09T15:17:22.623Z"
   },
   {
    "duration": 21,
    "start_time": "2024-08-09T15:17:37.314Z"
   },
   {
    "duration": 18,
    "start_time": "2024-08-09T15:20:03.716Z"
   },
   {
    "duration": 8,
    "start_time": "2024-08-09T15:20:12.358Z"
   },
   {
    "duration": 10,
    "start_time": "2024-08-09T15:20:28.460Z"
   },
   {
    "duration": 23,
    "start_time": "2024-08-09T15:22:09.294Z"
   },
   {
    "duration": 23,
    "start_time": "2024-08-09T15:22:32.245Z"
   },
   {
    "duration": 28,
    "start_time": "2024-08-09T15:29:01.502Z"
   },
   {
    "duration": 32,
    "start_time": "2024-08-09T15:29:18.810Z"
   },
   {
    "duration": 44,
    "start_time": "2024-08-09T15:31:18.560Z"
   },
   {
    "duration": 43,
    "start_time": "2024-08-09T15:31:41.552Z"
   },
   {
    "duration": 34,
    "start_time": "2024-08-09T15:31:50.054Z"
   },
   {
    "duration": 28,
    "start_time": "2024-08-09T15:32:01.893Z"
   },
   {
    "duration": 10,
    "start_time": "2024-08-09T15:32:02.565Z"
   },
   {
    "duration": 30,
    "start_time": "2024-08-09T15:32:03.015Z"
   },
   {
    "duration": 32,
    "start_time": "2024-08-09T15:32:05.289Z"
   },
   {
    "duration": 30,
    "start_time": "2024-08-09T15:32:13.709Z"
   },
   {
    "duration": 5,
    "start_time": "2024-08-09T15:32:34.900Z"
   },
   {
    "duration": 10,
    "start_time": "2024-08-09T15:32:58.569Z"
   },
   {
    "duration": 9,
    "start_time": "2024-08-09T15:33:00.598Z"
   },
   {
    "duration": 6,
    "start_time": "2024-08-09T15:33:08.947Z"
   },
   {
    "duration": 3,
    "start_time": "2024-08-09T15:35:17.599Z"
   },
   {
    "duration": 4,
    "start_time": "2024-08-09T15:37:43.431Z"
   },
   {
    "duration": 20,
    "start_time": "2024-08-09T15:37:52.318Z"
   },
   {
    "duration": 14,
    "start_time": "2024-08-09T15:38:04.447Z"
   },
   {
    "duration": 7,
    "start_time": "2024-08-09T15:38:16.549Z"
   },
   {
    "duration": 10,
    "start_time": "2024-08-09T15:39:11.235Z"
   },
   {
    "duration": 11,
    "start_time": "2024-08-09T15:39:36.580Z"
   },
   {
    "duration": 483,
    "start_time": "2024-08-09T15:46:24.212Z"
   },
   {
    "duration": 13,
    "start_time": "2024-08-09T15:46:44.662Z"
   },
   {
    "duration": 29,
    "start_time": "2024-08-09T15:48:52.963Z"
   },
   {
    "duration": 1233,
    "start_time": "2024-08-09T15:49:14.969Z"
   },
   {
    "duration": 1416,
    "start_time": "2024-08-09T15:49:28.959Z"
   },
   {
    "duration": 30,
    "start_time": "2024-08-09T15:52:32.597Z"
   },
   {
    "duration": 153,
    "start_time": "2024-08-09T15:54:26.312Z"
   },
   {
    "duration": 6,
    "start_time": "2024-08-09T15:54:46.384Z"
   },
   {
    "duration": 7,
    "start_time": "2024-08-09T15:55:12.600Z"
   },
   {
    "duration": 8,
    "start_time": "2024-08-09T15:55:23.802Z"
   },
   {
    "duration": 12,
    "start_time": "2024-08-09T15:55:29.748Z"
   },
   {
    "duration": 1479,
    "start_time": "2024-08-09T15:55:38.338Z"
   },
   {
    "duration": 78,
    "start_time": "2024-08-09T15:57:18.762Z"
   },
   {
    "duration": 25,
    "start_time": "2024-08-09T15:57:48.167Z"
   },
   {
    "duration": 1494,
    "start_time": "2024-08-09T15:58:40.204Z"
   },
   {
    "duration": 27,
    "start_time": "2024-08-09T15:59:03.696Z"
   },
   {
    "duration": 19,
    "start_time": "2024-08-09T15:59:11.889Z"
   },
   {
    "duration": 3,
    "start_time": "2024-08-09T15:59:39.205Z"
   },
   {
    "duration": 18,
    "start_time": "2024-08-09T16:00:33.746Z"
   },
   {
    "duration": 11,
    "start_time": "2024-08-09T16:01:52.476Z"
   },
   {
    "duration": 9,
    "start_time": "2024-08-09T16:02:22.153Z"
   },
   {
    "duration": 8,
    "start_time": "2024-08-09T16:02:27.441Z"
   },
   {
    "duration": 102,
    "start_time": "2024-08-09T16:02:55.346Z"
   },
   {
    "duration": 7,
    "start_time": "2024-08-09T16:03:03.201Z"
   },
   {
    "duration": 12,
    "start_time": "2024-08-09T16:03:36.229Z"
   },
   {
    "duration": 10,
    "start_time": "2024-08-09T16:04:51.130Z"
   },
   {
    "duration": 11,
    "start_time": "2024-08-09T16:05:09.924Z"
   },
   {
    "duration": 15,
    "start_time": "2024-08-09T16:05:27.047Z"
   },
   {
    "duration": 9,
    "start_time": "2024-08-09T16:05:35.883Z"
   },
   {
    "duration": 16,
    "start_time": "2024-08-09T16:06:33.425Z"
   },
   {
    "duration": 12,
    "start_time": "2024-08-09T16:08:02.452Z"
   },
   {
    "duration": 799,
    "start_time": "2024-08-09T16:08:43.535Z"
   },
   {
    "duration": 22,
    "start_time": "2024-08-09T16:10:12.885Z"
   },
   {
    "duration": 15,
    "start_time": "2024-08-09T16:10:30.416Z"
   },
   {
    "duration": 5,
    "start_time": "2024-08-09T16:10:51.566Z"
   },
   {
    "duration": 27,
    "start_time": "2024-08-09T16:10:59.563Z"
   },
   {
    "duration": 5,
    "start_time": "2024-08-09T16:11:08.964Z"
   },
   {
    "duration": 5,
    "start_time": "2024-08-09T16:11:19.670Z"
   },
   {
    "duration": 34,
    "start_time": "2024-08-09T16:13:16.159Z"
   },
   {
    "duration": 51,
    "start_time": "2024-08-09T16:14:14.772Z"
   },
   {
    "duration": 19,
    "start_time": "2024-08-09T16:16:14.766Z"
   },
   {
    "duration": 6,
    "start_time": "2024-08-09T16:16:28.665Z"
   },
   {
    "duration": 7,
    "start_time": "2024-08-09T16:18:02.026Z"
   },
   {
    "duration": 8,
    "start_time": "2024-08-09T16:18:23.558Z"
   },
   {
    "duration": 21,
    "start_time": "2024-08-09T16:19:20.440Z"
   },
   {
    "duration": 144,
    "start_time": "2024-08-09T16:19:24.369Z"
   },
   {
    "duration": 136,
    "start_time": "2024-08-09T16:20:37.873Z"
   },
   {
    "duration": 161,
    "start_time": "2024-08-09T16:22:43.329Z"
   },
   {
    "duration": 9,
    "start_time": "2024-08-09T16:27:41.875Z"
   },
   {
    "duration": 9,
    "start_time": "2024-08-09T16:28:02.504Z"
   },
   {
    "duration": 1291,
    "start_time": "2024-08-09T16:29:52.336Z"
   },
   {
    "duration": 319,
    "start_time": "2024-08-09T16:30:27.025Z"
   },
   {
    "duration": 23,
    "start_time": "2024-08-09T16:30:48.538Z"
   },
   {
    "duration": 312,
    "start_time": "2024-08-09T16:31:02.937Z"
   },
   {
    "duration": 297,
    "start_time": "2024-08-09T16:31:47.807Z"
   },
   {
    "duration": 303,
    "start_time": "2024-08-09T16:32:02.904Z"
   },
   {
    "duration": 322,
    "start_time": "2024-08-12T12:13:04.089Z"
   },
   {
    "duration": 25,
    "start_time": "2024-08-12T12:14:03.638Z"
   },
   {
    "duration": 474,
    "start_time": "2024-08-12T12:14:17.117Z"
   },
   {
    "duration": 3912,
    "start_time": "2024-08-12T12:14:17.595Z"
   },
   {
    "duration": 240,
    "start_time": "2024-08-12T12:14:21.511Z"
   },
   {
    "duration": 84,
    "start_time": "2024-08-12T12:14:21.754Z"
   },
   {
    "duration": 1381,
    "start_time": "2024-08-12T12:14:21.842Z"
   },
   {
    "duration": 9,
    "start_time": "2024-08-12T12:14:23.226Z"
   },
   {
    "duration": 10,
    "start_time": "2024-08-12T12:14:23.238Z"
   },
   {
    "duration": 227,
    "start_time": "2024-08-12T12:14:23.251Z"
   },
   {
    "duration": 23,
    "start_time": "2024-08-12T12:14:23.482Z"
   },
   {
    "duration": 234,
    "start_time": "2024-08-12T12:14:23.508Z"
   },
   {
    "duration": 203,
    "start_time": "2024-08-12T12:14:23.748Z"
   },
   {
    "duration": 71,
    "start_time": "2024-08-12T12:14:23.954Z"
   },
   {
    "duration": 28,
    "start_time": "2024-08-12T12:14:24.028Z"
   },
   {
    "duration": 11,
    "start_time": "2024-08-12T12:14:24.059Z"
   },
   {
    "duration": 53,
    "start_time": "2024-08-12T12:14:24.073Z"
   },
   {
    "duration": 35,
    "start_time": "2024-08-12T12:14:24.129Z"
   },
   {
    "duration": 183,
    "start_time": "2024-08-12T12:14:28.807Z"
   },
   {
    "duration": 6,
    "start_time": "2024-08-12T12:14:30.202Z"
   },
   {
    "duration": 8,
    "start_time": "2024-08-12T12:14:34.658Z"
   },
   {
    "duration": 11,
    "start_time": "2024-08-12T12:14:34.885Z"
   },
   {
    "duration": 73,
    "start_time": "2024-08-12T12:14:35.578Z"
   },
   {
    "duration": 4,
    "start_time": "2024-08-12T12:14:35.810Z"
   },
   {
    "duration": 23,
    "start_time": "2024-08-12T12:14:54.300Z"
   },
   {
    "duration": 1596,
    "start_time": "2024-08-12T12:15:03.256Z"
   },
   {
    "duration": 3,
    "start_time": "2024-08-12T12:15:13.115Z"
   },
   {
    "duration": 19,
    "start_time": "2024-08-12T12:15:14.849Z"
   },
   {
    "duration": 10,
    "start_time": "2024-08-12T12:15:15.471Z"
   },
   {
    "duration": 13,
    "start_time": "2024-08-12T12:15:16.193Z"
   },
   {
    "duration": 5,
    "start_time": "2024-08-12T12:15:16.621Z"
   },
   {
    "duration": 9,
    "start_time": "2024-08-12T12:15:17.995Z"
   },
   {
    "duration": 16,
    "start_time": "2024-08-12T12:15:19.924Z"
   },
   {
    "duration": 4,
    "start_time": "2024-08-12T12:15:20.469Z"
   },
   {
    "duration": 11,
    "start_time": "2024-08-12T12:15:21.838Z"
   },
   {
    "duration": 803,
    "start_time": "2024-08-12T12:15:22.077Z"
   },
   {
    "duration": 21,
    "start_time": "2024-08-12T12:15:22.883Z"
   },
   {
    "duration": 4,
    "start_time": "2024-08-12T12:15:22.907Z"
   },
   {
    "duration": 62,
    "start_time": "2024-08-12T12:15:23.576Z"
   },
   {
    "duration": 7,
    "start_time": "2024-08-12T12:15:25.329Z"
   },
   {
    "duration": 6,
    "start_time": "2024-08-12T12:15:25.643Z"
   },
   {
    "duration": 143,
    "start_time": "2024-08-12T12:15:27.374Z"
   },
   {
    "duration": 146,
    "start_time": "2024-08-12T12:15:30.458Z"
   },
   {
    "duration": 144,
    "start_time": "2024-08-12T12:15:31.898Z"
   },
   {
    "duration": 7,
    "start_time": "2024-08-12T12:15:32.923Z"
   },
   {
    "duration": 3,
    "start_time": "2024-08-12T12:15:49.765Z"
   },
   {
    "duration": 10,
    "start_time": "2024-08-12T12:15:52.846Z"
   },
   {
    "duration": 10,
    "start_time": "2024-08-12T12:15:53.206Z"
   },
   {
    "duration": 313,
    "start_time": "2024-08-12T12:15:54.023Z"
   },
   {
    "duration": 241,
    "start_time": "2024-08-12T12:16:38.975Z"
   },
   {
    "duration": 32,
    "start_time": "2024-08-12T12:20:49.069Z"
   },
   {
    "duration": 439,
    "start_time": "2024-08-12T12:21:06.997Z"
   },
   {
    "duration": 24,
    "start_time": "2024-08-12T12:25:36.543Z"
   },
   {
    "duration": 884,
    "start_time": "2024-08-12T12:26:11.750Z"
   },
   {
    "duration": 104,
    "start_time": "2024-08-12T12:26:59.642Z"
   },
   {
    "duration": 87,
    "start_time": "2024-08-12T12:27:18.896Z"
   },
   {
    "duration": 17,
    "start_time": "2024-08-12T12:28:44.893Z"
   },
   {
    "duration": 13,
    "start_time": "2024-08-12T12:28:56.186Z"
   },
   {
    "duration": 13,
    "start_time": "2024-08-12T12:29:00.845Z"
   },
   {
    "duration": 16,
    "start_time": "2024-08-12T12:29:09.425Z"
   },
   {
    "duration": 48,
    "start_time": "2024-08-12T12:30:25.337Z"
   },
   {
    "duration": 45,
    "start_time": "2024-08-12T12:30:32.220Z"
   },
   {
    "duration": 48,
    "start_time": "2024-08-12T12:30:45.992Z"
   },
   {
    "duration": 48,
    "start_time": "2024-08-12T12:31:12.908Z"
   },
   {
    "duration": 10,
    "start_time": "2024-08-12T12:31:35.609Z"
   },
   {
    "duration": 10,
    "start_time": "2024-08-12T12:32:03.866Z"
   },
   {
    "duration": 10,
    "start_time": "2024-08-12T12:32:09.512Z"
   },
   {
    "duration": 10,
    "start_time": "2024-08-12T12:32:13.854Z"
   },
   {
    "duration": 254,
    "start_time": "2024-08-12T12:36:25.440Z"
   },
   {
    "duration": 207,
    "start_time": "2024-08-12T12:36:25.729Z"
   },
   {
    "duration": 212,
    "start_time": "2024-08-12T12:37:10.555Z"
   },
   {
    "duration": 18,
    "start_time": "2024-08-12T12:38:23.051Z"
   },
   {
    "duration": 490,
    "start_time": "2024-08-12T13:32:31.696Z"
   },
   {
    "duration": 3775,
    "start_time": "2024-08-12T13:32:32.189Z"
   },
   {
    "duration": 240,
    "start_time": "2024-08-12T13:32:35.967Z"
   },
   {
    "duration": 84,
    "start_time": "2024-08-12T13:32:36.211Z"
   },
   {
    "duration": 1352,
    "start_time": "2024-08-12T13:32:36.298Z"
   },
   {
    "duration": 9,
    "start_time": "2024-08-12T13:32:37.653Z"
   },
   {
    "duration": 8,
    "start_time": "2024-08-12T13:32:37.664Z"
   },
   {
    "duration": 211,
    "start_time": "2024-08-12T13:32:37.676Z"
   },
   {
    "duration": 32,
    "start_time": "2024-08-12T13:32:37.891Z"
   },
   {
    "duration": 214,
    "start_time": "2024-08-12T13:32:37.931Z"
   },
   {
    "duration": 183,
    "start_time": "2024-08-12T13:32:38.148Z"
   },
   {
    "duration": 44,
    "start_time": "2024-08-12T13:32:38.334Z"
   },
   {
    "duration": 42,
    "start_time": "2024-08-12T13:32:38.381Z"
   },
   {
    "duration": 12,
    "start_time": "2024-08-12T13:32:38.428Z"
   },
   {
    "duration": 26,
    "start_time": "2024-08-12T13:32:38.443Z"
   },
   {
    "duration": 61,
    "start_time": "2024-08-12T13:32:38.472Z"
   },
   {
    "duration": 189,
    "start_time": "2024-08-12T13:32:38.535Z"
   },
   {
    "duration": 7,
    "start_time": "2024-08-12T13:32:38.727Z"
   },
   {
    "duration": 8,
    "start_time": "2024-08-12T13:32:38.737Z"
   },
   {
    "duration": 11,
    "start_time": "2024-08-12T13:32:38.748Z"
   },
   {
    "duration": 1542,
    "start_time": "2024-08-12T13:32:38.761Z"
   },
   {
    "duration": 4,
    "start_time": "2024-08-12T13:32:40.307Z"
   },
   {
    "duration": 18,
    "start_time": "2024-08-12T13:32:40.315Z"
   },
   {
    "duration": 10,
    "start_time": "2024-08-12T13:32:40.337Z"
   },
   {
    "duration": 11,
    "start_time": "2024-08-12T13:32:40.350Z"
   },
   {
    "duration": 3,
    "start_time": "2024-08-12T13:32:40.408Z"
   },
   {
    "duration": 9,
    "start_time": "2024-08-12T13:32:40.415Z"
   },
   {
    "duration": 16,
    "start_time": "2024-08-12T13:32:40.433Z"
   },
   {
    "duration": 3,
    "start_time": "2024-08-12T13:32:40.452Z"
   },
   {
    "duration": 55,
    "start_time": "2024-08-12T13:32:40.458Z"
   },
   {
    "duration": 805,
    "start_time": "2024-08-12T13:32:40.517Z"
   },
   {
    "duration": 10,
    "start_time": "2024-08-12T13:32:41.326Z"
   },
   {
    "duration": 5,
    "start_time": "2024-08-12T13:32:41.339Z"
   },
   {
    "duration": 92,
    "start_time": "2024-08-12T13:32:41.347Z"
   },
   {
    "duration": 6,
    "start_time": "2024-08-12T13:32:41.441Z"
   },
   {
    "duration": 6,
    "start_time": "2024-08-12T13:32:41.450Z"
   },
   {
    "duration": 167,
    "start_time": "2024-08-12T13:32:41.459Z"
   },
   {
    "duration": 151,
    "start_time": "2024-08-12T13:32:41.629Z"
   },
   {
    "duration": 149,
    "start_time": "2024-08-12T13:32:41.782Z"
   },
   {
    "duration": 3,
    "start_time": "2024-08-12T13:32:41.934Z"
   },
   {
    "duration": 9,
    "start_time": "2024-08-12T13:32:41.940Z"
   },
   {
    "duration": 10,
    "start_time": "2024-08-12T13:32:41.952Z"
   },
   {
    "duration": 297,
    "start_time": "2024-08-12T13:32:41.964Z"
   },
   {
    "duration": 253,
    "start_time": "2024-08-12T13:32:42.263Z"
   },
   {
    "duration": 445,
    "start_time": "2024-08-12T13:32:42.519Z"
   },
   {
    "duration": 52,
    "start_time": "2024-08-12T13:32:42.968Z"
   },
   {
    "duration": 41,
    "start_time": "2024-08-12T13:32:43.023Z"
   },
   {
    "duration": 9,
    "start_time": "2024-08-12T13:32:43.067Z"
   },
   {
    "duration": 15,
    "start_time": "2024-08-12T13:32:43.107Z"
   },
   {
    "duration": 317,
    "start_time": "2024-08-12T15:54:44.240Z"
   },
   {
    "duration": 431,
    "start_time": "2024-08-12T15:54:53.576Z"
   },
   {
    "duration": 3823,
    "start_time": "2024-08-12T15:54:54.010Z"
   },
   {
    "duration": 242,
    "start_time": "2024-08-12T15:54:57.836Z"
   },
   {
    "duration": 80,
    "start_time": "2024-08-12T15:54:58.082Z"
   },
   {
    "duration": 1320,
    "start_time": "2024-08-12T15:54:58.164Z"
   },
   {
    "duration": 10,
    "start_time": "2024-08-12T15:54:59.488Z"
   },
   {
    "duration": 22,
    "start_time": "2024-08-12T15:54:59.501Z"
   },
   {
    "duration": 198,
    "start_time": "2024-08-12T15:54:59.527Z"
   },
   {
    "duration": 14,
    "start_time": "2024-08-12T15:54:59.728Z"
   },
   {
    "duration": 210,
    "start_time": "2024-08-12T15:54:59.749Z"
   },
   {
    "duration": 174,
    "start_time": "2024-08-12T15:54:59.963Z"
   },
   {
    "duration": 43,
    "start_time": "2024-08-12T15:55:00.143Z"
   },
   {
    "duration": 46,
    "start_time": "2024-08-12T15:55:00.189Z"
   },
   {
    "duration": 11,
    "start_time": "2024-08-12T15:55:00.238Z"
   },
   {
    "duration": 28,
    "start_time": "2024-08-12T15:55:00.251Z"
   },
   {
    "duration": 65,
    "start_time": "2024-08-12T15:55:00.282Z"
   },
   {
    "duration": 172,
    "start_time": "2024-08-12T15:55:00.350Z"
   },
   {
    "duration": 6,
    "start_time": "2024-08-12T15:55:00.525Z"
   },
   {
    "duration": 8,
    "start_time": "2024-08-12T15:55:00.535Z"
   },
   {
    "duration": 10,
    "start_time": "2024-08-12T15:55:00.546Z"
   },
   {
    "duration": 1525,
    "start_time": "2024-08-12T15:55:00.560Z"
   },
   {
    "duration": 4,
    "start_time": "2024-08-12T15:55:02.088Z"
   },
   {
    "duration": 40,
    "start_time": "2024-08-12T15:55:02.095Z"
   },
   {
    "duration": 10,
    "start_time": "2024-08-12T15:55:02.138Z"
   },
   {
    "duration": 11,
    "start_time": "2024-08-12T15:55:02.151Z"
   },
   {
    "duration": 4,
    "start_time": "2024-08-12T15:55:02.165Z"
   },
   {
    "duration": 54,
    "start_time": "2024-08-12T15:55:02.173Z"
   },
   {
    "duration": 16,
    "start_time": "2024-08-12T15:55:02.237Z"
   },
   {
    "duration": 5,
    "start_time": "2024-08-12T15:55:02.256Z"
   },
   {
    "duration": 12,
    "start_time": "2024-08-12T15:55:02.264Z"
   },
   {
    "duration": 814,
    "start_time": "2024-08-12T15:55:02.279Z"
   },
   {
    "duration": 9,
    "start_time": "2024-08-12T15:55:03.096Z"
   },
   {
    "duration": 4,
    "start_time": "2024-08-12T15:55:03.123Z"
   },
   {
    "duration": 52,
    "start_time": "2024-08-12T15:55:03.131Z"
   },
   {
    "duration": 38,
    "start_time": "2024-08-12T15:55:03.186Z"
   },
   {
    "duration": 7,
    "start_time": "2024-08-12T15:55:03.227Z"
   },
   {
    "duration": 156,
    "start_time": "2024-08-12T15:55:03.237Z"
   },
   {
    "duration": 148,
    "start_time": "2024-08-12T15:55:03.396Z"
   },
   {
    "duration": 152,
    "start_time": "2024-08-12T15:55:03.547Z"
   },
   {
    "duration": 3,
    "start_time": "2024-08-12T15:55:03.702Z"
   },
   {
    "duration": 22,
    "start_time": "2024-08-12T15:55:03.708Z"
   },
   {
    "duration": 10,
    "start_time": "2024-08-12T15:55:03.733Z"
   },
   {
    "duration": 295,
    "start_time": "2024-08-12T15:55:03.748Z"
   },
   {
    "duration": 531,
    "start_time": "2024-08-12T15:55:04.047Z"
   },
   {
    "duration": 252,
    "start_time": "2024-08-12T15:55:04.581Z"
   },
   {
    "duration": 495,
    "start_time": "2024-08-12T15:55:04.837Z"
   },
   {
    "duration": 43,
    "start_time": "2024-08-12T15:55:05.335Z"
   },
   {
    "duration": 69,
    "start_time": "2024-08-12T15:55:05.381Z"
   },
   {
    "duration": 10,
    "start_time": "2024-08-12T15:55:05.452Z"
   },
   {
    "duration": 13,
    "start_time": "2024-08-12T15:55:05.465Z"
   },
   {
    "duration": 485,
    "start_time": "2024-08-12T15:58:39.508Z"
   },
   {
    "duration": 303,
    "start_time": "2024-08-12T15:58:39.998Z"
   },
   {
    "duration": 309,
    "start_time": "2024-08-12T15:58:40.304Z"
   },
   {
    "duration": 64,
    "start_time": "2024-08-12T15:58:40.622Z"
   },
   {
    "duration": 1366,
    "start_time": "2024-08-12T15:58:40.689Z"
   },
   {
    "duration": 8,
    "start_time": "2024-08-12T15:58:42.058Z"
   },
   {
    "duration": 8,
    "start_time": "2024-08-12T15:58:42.070Z"
   },
   {
    "duration": 197,
    "start_time": "2024-08-12T15:58:42.080Z"
   },
   {
    "duration": 14,
    "start_time": "2024-08-12T15:58:42.279Z"
   },
   {
    "duration": 210,
    "start_time": "2024-08-12T15:58:42.298Z"
   },
   {
    "duration": 168,
    "start_time": "2024-08-12T15:58:42.510Z"
   },
   {
    "duration": 54,
    "start_time": "2024-08-12T15:58:42.681Z"
   },
   {
    "duration": 23,
    "start_time": "2024-08-12T15:58:42.738Z"
   },
   {
    "duration": 12,
    "start_time": "2024-08-12T15:58:42.764Z"
   },
   {
    "duration": 54,
    "start_time": "2024-08-12T15:58:42.778Z"
   },
   {
    "duration": 38,
    "start_time": "2024-08-12T15:58:42.835Z"
   },
   {
    "duration": 184,
    "start_time": "2024-08-12T15:58:42.876Z"
   },
   {
    "duration": 7,
    "start_time": "2024-08-12T15:58:43.063Z"
   },
   {
    "duration": 9,
    "start_time": "2024-08-12T15:58:43.072Z"
   },
   {
    "duration": 40,
    "start_time": "2024-08-12T15:58:43.084Z"
   },
   {
    "duration": 1478,
    "start_time": "2024-08-12T15:58:43.127Z"
   },
   {
    "duration": 15,
    "start_time": "2024-08-12T15:58:44.609Z"
   },
   {
    "duration": 19,
    "start_time": "2024-08-12T15:58:44.627Z"
   },
   {
    "duration": 11,
    "start_time": "2024-08-12T15:58:44.650Z"
   },
   {
    "duration": 11,
    "start_time": "2024-08-12T15:58:44.664Z"
   },
   {
    "duration": 46,
    "start_time": "2024-08-12T15:58:44.678Z"
   },
   {
    "duration": 8,
    "start_time": "2024-08-12T15:58:44.728Z"
   },
   {
    "duration": 16,
    "start_time": "2024-08-12T15:58:44.745Z"
   },
   {
    "duration": 3,
    "start_time": "2024-08-12T15:58:44.764Z"
   },
   {
    "duration": 50,
    "start_time": "2024-08-12T15:58:44.772Z"
   },
   {
    "duration": 802,
    "start_time": "2024-08-12T15:58:44.825Z"
   },
   {
    "duration": 10,
    "start_time": "2024-08-12T15:58:45.631Z"
   },
   {
    "duration": 5,
    "start_time": "2024-08-12T15:58:45.644Z"
   },
   {
    "duration": 82,
    "start_time": "2024-08-12T15:58:45.653Z"
   },
   {
    "duration": 7,
    "start_time": "2024-08-12T15:58:45.738Z"
   },
   {
    "duration": 8,
    "start_time": "2024-08-12T15:58:45.750Z"
   },
   {
    "duration": 164,
    "start_time": "2024-08-12T15:58:45.760Z"
   },
   {
    "duration": 151,
    "start_time": "2024-08-12T15:58:45.927Z"
   },
   {
    "duration": 147,
    "start_time": "2024-08-12T15:58:46.082Z"
   },
   {
    "duration": 4,
    "start_time": "2024-08-12T15:58:46.232Z"
   },
   {
    "duration": 9,
    "start_time": "2024-08-12T15:58:46.240Z"
   },
   {
    "duration": 10,
    "start_time": "2024-08-12T15:58:46.251Z"
   },
   {
    "duration": 288,
    "start_time": "2024-08-12T15:58:46.264Z"
   },
   {
    "duration": 382,
    "start_time": "2024-08-12T15:58:52.333Z"
   },
   {
    "duration": 228,
    "start_time": "2024-08-12T15:58:53.606Z"
   },
   {
    "duration": 465,
    "start_time": "2024-08-12T15:59:54.598Z"
   },
   {
    "duration": 240,
    "start_time": "2024-08-12T15:59:55.066Z"
   },
   {
    "duration": 250,
    "start_time": "2024-08-12T15:59:55.309Z"
   },
   {
    "duration": 60,
    "start_time": "2024-08-12T15:59:55.562Z"
   },
   {
    "duration": 1243,
    "start_time": "2024-08-12T15:59:55.625Z"
   },
   {
    "duration": 8,
    "start_time": "2024-08-12T15:59:56.871Z"
   },
   {
    "duration": 7,
    "start_time": "2024-08-12T15:59:56.882Z"
   },
   {
    "duration": 205,
    "start_time": "2024-08-12T15:59:56.892Z"
   },
   {
    "duration": 26,
    "start_time": "2024-08-12T15:59:57.101Z"
   },
   {
    "duration": 193,
    "start_time": "2024-08-12T15:59:57.133Z"
   },
   {
    "duration": 178,
    "start_time": "2024-08-12T15:59:57.329Z"
   },
   {
    "duration": 49,
    "start_time": "2024-08-12T15:59:57.511Z"
   },
   {
    "duration": 23,
    "start_time": "2024-08-12T15:59:57.563Z"
   },
   {
    "duration": 34,
    "start_time": "2024-08-12T15:59:57.589Z"
   },
   {
    "duration": 26,
    "start_time": "2024-08-12T15:59:57.626Z"
   },
   {
    "duration": 32,
    "start_time": "2024-08-12T15:59:57.655Z"
   },
   {
    "duration": 194,
    "start_time": "2024-08-12T15:59:57.690Z"
   },
   {
    "duration": 5,
    "start_time": "2024-08-12T15:59:57.888Z"
   },
   {
    "duration": 27,
    "start_time": "2024-08-12T15:59:57.896Z"
   },
   {
    "duration": 10,
    "start_time": "2024-08-12T15:59:57.926Z"
   },
   {
    "duration": 1484,
    "start_time": "2024-08-12T15:59:57.939Z"
   },
   {
    "duration": 4,
    "start_time": "2024-08-12T15:59:59.426Z"
   },
   {
    "duration": 19,
    "start_time": "2024-08-12T15:59:59.434Z"
   },
   {
    "duration": 12,
    "start_time": "2024-08-12T15:59:59.457Z"
   },
   {
    "duration": 52,
    "start_time": "2024-08-12T15:59:59.473Z"
   },
   {
    "duration": 3,
    "start_time": "2024-08-12T15:59:59.529Z"
   },
   {
    "duration": 9,
    "start_time": "2024-08-12T15:59:59.536Z"
   },
   {
    "duration": 16,
    "start_time": "2024-08-12T15:59:59.553Z"
   },
   {
    "duration": 4,
    "start_time": "2024-08-12T15:59:59.572Z"
   },
   {
    "duration": 12,
    "start_time": "2024-08-12T15:59:59.624Z"
   },
   {
    "duration": 801,
    "start_time": "2024-08-12T15:59:59.639Z"
   },
   {
    "duration": 9,
    "start_time": "2024-08-12T16:00:00.443Z"
   },
   {
    "duration": 5,
    "start_time": "2024-08-12T16:00:00.454Z"
   },
   {
    "duration": 88,
    "start_time": "2024-08-12T16:00:00.463Z"
   },
   {
    "duration": 6,
    "start_time": "2024-08-12T16:00:00.554Z"
   },
   {
    "duration": 6,
    "start_time": "2024-08-12T16:00:00.563Z"
   },
   {
    "duration": 172,
    "start_time": "2024-08-12T16:00:00.572Z"
   },
   {
    "duration": 156,
    "start_time": "2024-08-12T16:00:00.746Z"
   },
   {
    "duration": 146,
    "start_time": "2024-08-12T16:00:00.905Z"
   },
   {
    "duration": 3,
    "start_time": "2024-08-12T16:00:01.055Z"
   },
   {
    "duration": 10,
    "start_time": "2024-08-12T16:00:01.061Z"
   },
   {
    "duration": 9,
    "start_time": "2024-08-12T16:00:07.881Z"
   },
   {
    "duration": 397,
    "start_time": "2024-08-12T16:00:26.264Z"
   },
   {
    "duration": 1096,
    "start_time": "2024-08-12T16:00:52.995Z"
   },
   {
    "duration": 385,
    "start_time": "2024-08-12T16:01:27.374Z"
   },
   {
    "duration": 393,
    "start_time": "2024-08-12T16:01:51.730Z"
   },
   {
    "duration": 424,
    "start_time": "2024-08-12T16:05:05.429Z"
   },
   {
    "duration": 15,
    "start_time": "2024-08-12T16:09:00.045Z"
   },
   {
    "duration": 472,
    "start_time": "2024-08-12T16:09:58.338Z"
   },
   {
    "duration": 236,
    "start_time": "2024-08-12T16:09:58.813Z"
   },
   {
    "duration": 257,
    "start_time": "2024-08-12T16:09:59.052Z"
   },
   {
    "duration": 65,
    "start_time": "2024-08-12T16:09:59.313Z"
   },
   {
    "duration": 1288,
    "start_time": "2024-08-12T16:09:59.381Z"
   },
   {
    "duration": 9,
    "start_time": "2024-08-12T16:10:00.672Z"
   },
   {
    "duration": 7,
    "start_time": "2024-08-12T16:10:00.684Z"
   },
   {
    "duration": 200,
    "start_time": "2024-08-12T16:10:00.695Z"
   },
   {
    "duration": 26,
    "start_time": "2024-08-12T16:10:00.898Z"
   },
   {
    "duration": 198,
    "start_time": "2024-08-12T16:10:00.929Z"
   },
   {
    "duration": 178,
    "start_time": "2024-08-12T16:10:01.130Z"
   },
   {
    "duration": 55,
    "start_time": "2024-08-12T16:10:01.312Z"
   },
   {
    "duration": 23,
    "start_time": "2024-08-12T16:10:01.370Z"
   },
   {
    "duration": 33,
    "start_time": "2024-08-12T16:10:01.396Z"
   },
   {
    "duration": 27,
    "start_time": "2024-08-12T16:10:01.432Z"
   },
   {
    "duration": 61,
    "start_time": "2024-08-12T16:10:01.462Z"
   },
   {
    "duration": 171,
    "start_time": "2024-08-12T16:10:01.525Z"
   },
   {
    "duration": 7,
    "start_time": "2024-08-12T16:10:01.699Z"
   },
   {
    "duration": 8,
    "start_time": "2024-08-12T16:10:01.724Z"
   },
   {
    "duration": 11,
    "start_time": "2024-08-12T16:10:01.735Z"
   },
   {
    "duration": 1503,
    "start_time": "2024-08-12T16:10:01.749Z"
   },
   {
    "duration": 3,
    "start_time": "2024-08-12T16:10:03.255Z"
   },
   {
    "duration": 19,
    "start_time": "2024-08-12T16:10:03.261Z"
   },
   {
    "duration": 10,
    "start_time": "2024-08-12T16:10:03.282Z"
   },
   {
    "duration": 11,
    "start_time": "2024-08-12T16:10:03.323Z"
   },
   {
    "duration": 4,
    "start_time": "2024-08-12T16:10:03.337Z"
   },
   {
    "duration": 9,
    "start_time": "2024-08-12T16:10:03.344Z"
   },
   {
    "duration": 61,
    "start_time": "2024-08-12T16:10:03.363Z"
   },
   {
    "duration": 3,
    "start_time": "2024-08-12T16:10:03.427Z"
   },
   {
    "duration": 11,
    "start_time": "2024-08-12T16:10:03.433Z"
   },
   {
    "duration": 805,
    "start_time": "2024-08-12T16:10:03.447Z"
   },
   {
    "duration": 9,
    "start_time": "2024-08-12T16:10:04.255Z"
   },
   {
    "duration": 5,
    "start_time": "2024-08-12T16:10:04.267Z"
   },
   {
    "duration": 89,
    "start_time": "2024-08-12T16:10:04.275Z"
   },
   {
    "duration": 6,
    "start_time": "2024-08-12T16:10:04.367Z"
   },
   {
    "duration": 6,
    "start_time": "2024-08-12T16:10:04.377Z"
   },
   {
    "duration": 167,
    "start_time": "2024-08-12T16:10:04.385Z"
   },
   {
    "duration": 152,
    "start_time": "2024-08-12T16:10:04.555Z"
   },
   {
    "duration": 153,
    "start_time": "2024-08-12T16:10:04.710Z"
   },
   {
    "duration": 3,
    "start_time": "2024-08-12T16:10:04.866Z"
   },
   {
    "duration": 9,
    "start_time": "2024-08-12T16:10:04.872Z"
   },
   {
    "duration": 9,
    "start_time": "2024-08-12T16:10:04.883Z"
   },
   {
    "duration": 262,
    "start_time": "2024-08-12T16:10:04.923Z"
   },
   {
    "duration": 249,
    "start_time": "2024-08-12T16:10:05.188Z"
   },
   {
    "duration": 408,
    "start_time": "2024-08-12T16:10:05.440Z"
   },
   {
    "duration": 444,
    "start_time": "2024-08-12T16:10:05.851Z"
   },
   {
    "duration": 49,
    "start_time": "2024-08-12T16:10:06.298Z"
   },
   {
    "duration": 41,
    "start_time": "2024-08-12T16:10:06.350Z"
   },
   {
    "duration": 31,
    "start_time": "2024-08-12T16:10:06.393Z"
   },
   {
    "duration": 14,
    "start_time": "2024-08-12T16:10:06.427Z"
   },
   {
    "duration": 16,
    "start_time": "2024-08-12T16:10:19.571Z"
   },
   {
    "duration": 1148,
    "start_time": "2024-08-12T16:11:54.829Z"
   },
   {
    "duration": 0,
    "start_time": "2024-08-12T16:11:55.980Z"
   },
   {
    "duration": 0,
    "start_time": "2024-08-12T16:11:55.982Z"
   },
   {
    "duration": 0,
    "start_time": "2024-08-12T16:11:55.984Z"
   },
   {
    "duration": 15,
    "start_time": "2024-08-12T16:12:23.834Z"
   },
   {
    "duration": 9,
    "start_time": "2024-08-12T16:12:54.998Z"
   },
   {
    "duration": 24,
    "start_time": "2024-08-12T16:13:02.042Z"
   },
   {
    "duration": 25,
    "start_time": "2024-08-12T16:13:02.649Z"
   },
   {
    "duration": 22,
    "start_time": "2024-08-12T16:13:03.688Z"
   },
   {
    "duration": 313,
    "start_time": "2024-08-12T17:05:41.797Z"
   },
   {
    "duration": 4236,
    "start_time": "2024-08-12T17:05:52.546Z"
   },
   {
    "duration": 291,
    "start_time": "2024-08-12T17:05:56.785Z"
   },
   {
    "duration": 80,
    "start_time": "2024-08-12T17:06:23.688Z"
   },
   {
    "duration": 1309,
    "start_time": "2024-08-12T17:06:36.200Z"
   },
   {
    "duration": 12,
    "start_time": "2024-08-12T17:06:48.505Z"
   },
   {
    "duration": 12,
    "start_time": "2024-08-12T17:07:00.924Z"
   },
   {
    "duration": 178,
    "start_time": "2024-08-12T17:07:53.625Z"
   },
   {
    "duration": 173,
    "start_time": "2024-08-12T17:07:59.071Z"
   },
   {
    "duration": 24,
    "start_time": "2024-08-12T17:09:20.405Z"
   },
   {
    "duration": 46,
    "start_time": "2024-08-12T17:11:15.586Z"
   },
   {
    "duration": 39,
    "start_time": "2024-08-12T17:11:59.242Z"
   },
   {
    "duration": 44,
    "start_time": "2024-08-12T17:12:21.111Z"
   },
   {
    "duration": 3,
    "start_time": "2024-08-12T17:12:32.242Z"
   },
   {
    "duration": 3,
    "start_time": "2024-08-12T17:12:32.646Z"
   },
   {
    "duration": 202,
    "start_time": "2024-08-12T17:12:32.966Z"
   },
   {
    "duration": 61,
    "start_time": "2024-08-12T17:12:33.190Z"
   },
   {
    "duration": 1233,
    "start_time": "2024-08-12T17:12:33.417Z"
   },
   {
    "duration": 13,
    "start_time": "2024-08-12T17:12:34.654Z"
   },
   {
    "duration": 11,
    "start_time": "2024-08-12T17:12:34.670Z"
   },
   {
    "duration": 152,
    "start_time": "2024-08-12T17:12:36.950Z"
   },
   {
    "duration": 19,
    "start_time": "2024-08-12T17:12:41.177Z"
   },
   {
    "duration": 170,
    "start_time": "2024-08-12T17:12:41.788Z"
   },
   {
    "duration": 164,
    "start_time": "2024-08-12T17:12:51.327Z"
   },
   {
    "duration": 51,
    "start_time": "2024-08-12T17:12:55.622Z"
   },
   {
    "duration": 23,
    "start_time": "2024-08-12T17:12:58.188Z"
   },
   {
    "duration": 10,
    "start_time": "2024-08-12T17:13:00.010Z"
   },
   {
    "duration": 51,
    "start_time": "2024-08-12T17:13:02.824Z"
   },
   {
    "duration": 39,
    "start_time": "2024-08-12T17:13:46.884Z"
   },
   {
    "duration": 1281,
    "start_time": "2024-08-12T17:17:12.224Z"
   },
   {
    "duration": 1267,
    "start_time": "2024-08-12T17:17:28.319Z"
   },
   {
    "duration": 1256,
    "start_time": "2024-08-12T17:17:55.201Z"
   },
   {
    "duration": 33,
    "start_time": "2024-08-12T17:21:02.721Z"
   },
   {
    "duration": 25,
    "start_time": "2024-08-12T17:21:13.456Z"
   },
   {
    "duration": 15,
    "start_time": "2024-08-12T17:21:30.845Z"
   },
   {
    "duration": 5,
    "start_time": "2024-08-12T17:41:27.519Z"
   },
   {
    "duration": 5,
    "start_time": "2024-08-12T17:41:36.229Z"
   },
   {
    "duration": 875,
    "start_time": "2024-08-12T17:42:48.323Z"
   },
   {
    "duration": 16,
    "start_time": "2024-08-12T17:43:11.767Z"
   },
   {
    "duration": 13,
    "start_time": "2024-08-12T17:44:21.868Z"
   },
   {
    "duration": 14,
    "start_time": "2024-08-12T17:45:37.612Z"
   },
   {
    "duration": 9,
    "start_time": "2024-08-12T17:45:56.018Z"
   },
   {
    "duration": 18,
    "start_time": "2024-08-12T17:46:12.515Z"
   },
   {
    "duration": 22,
    "start_time": "2024-08-12T17:48:11.908Z"
   },
   {
    "duration": 11,
    "start_time": "2024-08-12T17:49:40.016Z"
   },
   {
    "duration": 27,
    "start_time": "2024-08-12T17:55:46.553Z"
   },
   {
    "duration": 26,
    "start_time": "2024-08-12T17:55:58.208Z"
   },
   {
    "duration": 28,
    "start_time": "2024-08-12T17:56:19.621Z"
   },
   {
    "duration": 352,
    "start_time": "2024-08-12T17:56:33.803Z"
   },
   {
    "duration": 33,
    "start_time": "2024-08-12T17:57:23.461Z"
   },
   {
    "duration": 12,
    "start_time": "2024-08-12T17:58:08.168Z"
   },
   {
    "duration": 10,
    "start_time": "2024-08-12T17:58:32.154Z"
   },
   {
    "duration": 11,
    "start_time": "2024-08-12T17:58:42.248Z"
   },
   {
    "duration": 9,
    "start_time": "2024-08-12T17:59:06.629Z"
   },
   {
    "duration": 21,
    "start_time": "2024-08-12T17:59:51.941Z"
   },
   {
    "duration": 10,
    "start_time": "2024-08-12T18:00:09.540Z"
   },
   {
    "duration": 10,
    "start_time": "2024-08-12T18:00:52.337Z"
   },
   {
    "duration": 20,
    "start_time": "2024-08-12T18:04:04.494Z"
   },
   {
    "duration": 23,
    "start_time": "2024-08-12T18:04:08.249Z"
   },
   {
    "duration": 35,
    "start_time": "2024-08-12T18:04:27.556Z"
   },
   {
    "duration": 36,
    "start_time": "2024-08-12T18:05:28.620Z"
   },
   {
    "duration": 35,
    "start_time": "2024-08-12T18:05:51.638Z"
   },
   {
    "duration": 24,
    "start_time": "2024-08-12T18:06:03.474Z"
   },
   {
    "duration": 33,
    "start_time": "2024-08-12T18:07:51.680Z"
   },
   {
    "duration": 26,
    "start_time": "2024-08-12T18:07:58.161Z"
   },
   {
    "duration": 9,
    "start_time": "2024-08-12T18:17:10.272Z"
   },
   {
    "duration": 113,
    "start_time": "2024-08-12T18:22:11.536Z"
   },
   {
    "duration": 111,
    "start_time": "2024-08-12T18:23:23.243Z"
   },
   {
    "duration": 132,
    "start_time": "2024-08-12T18:23:35.346Z"
   },
   {
    "duration": 120,
    "start_time": "2024-08-12T18:23:41.963Z"
   },
   {
    "duration": 113,
    "start_time": "2024-08-12T18:24:13.018Z"
   },
   {
    "duration": 115,
    "start_time": "2024-08-12T18:24:23.073Z"
   },
   {
    "duration": 4,
    "start_time": "2024-08-12T18:25:49.841Z"
   },
   {
    "duration": 9,
    "start_time": "2024-08-12T18:32:13.233Z"
   },
   {
    "duration": 9,
    "start_time": "2024-08-12T18:32:48.128Z"
   },
   {
    "duration": 9,
    "start_time": "2024-08-12T18:32:58.007Z"
   },
   {
    "duration": 17,
    "start_time": "2024-08-12T18:33:04.148Z"
   },
   {
    "duration": 8,
    "start_time": "2024-08-12T18:33:09.033Z"
   },
   {
    "duration": 544,
    "start_time": "2024-08-12T18:34:26.845Z"
   },
   {
    "duration": 417,
    "start_time": "2024-08-12T18:37:02.273Z"
   },
   {
    "duration": 88,
    "start_time": "2024-08-12T18:38:46.415Z"
   },
   {
    "duration": 35,
    "start_time": "2024-08-12T18:40:50.004Z"
   },
   {
    "duration": 31,
    "start_time": "2024-08-12T18:41:35.862Z"
   },
   {
    "duration": 33,
    "start_time": "2024-08-12T18:45:45.671Z"
   },
   {
    "duration": 48,
    "start_time": "2024-08-12T18:46:58.710Z"
   },
   {
    "duration": 614,
    "start_time": "2024-08-12T18:48:58.483Z"
   },
   {
    "duration": 566,
    "start_time": "2024-08-12T18:49:21.117Z"
   },
   {
    "duration": 600,
    "start_time": "2024-08-12T18:49:31.681Z"
   },
   {
    "duration": 20,
    "start_time": "2024-08-12T18:52:55.486Z"
   },
   {
    "duration": 8,
    "start_time": "2024-08-12T18:53:21.652Z"
   },
   {
    "duration": 256,
    "start_time": "2024-08-12T18:53:21.945Z"
   },
   {
    "duration": 252,
    "start_time": "2024-08-12T18:53:22.204Z"
   },
   {
    "duration": 415,
    "start_time": "2024-08-12T18:53:22.798Z"
   },
   {
    "duration": 416,
    "start_time": "2024-08-12T18:53:23.516Z"
   },
   {
    "duration": 175,
    "start_time": "2024-08-12T18:54:03.456Z"
   },
   {
    "duration": 2456,
    "start_time": "2024-08-12T18:58:13.868Z"
   },
   {
    "duration": 2460,
    "start_time": "2024-08-12T18:59:25.558Z"
   },
   {
    "duration": 13,
    "start_time": "2024-08-12T18:59:28.021Z"
   },
   {
    "duration": 247,
    "start_time": "2024-08-12T18:59:30.915Z"
   },
   {
    "duration": 2467,
    "start_time": "2024-08-12T19:03:30.280Z"
   },
   {
    "duration": 2443,
    "start_time": "2024-08-12T19:03:33.401Z"
   },
   {
    "duration": 2453,
    "start_time": "2024-08-12T19:05:12.005Z"
   },
   {
    "duration": 2499,
    "start_time": "2024-08-12T19:05:29.444Z"
   },
   {
    "duration": 2440,
    "start_time": "2024-08-12T19:06:12.838Z"
   },
   {
    "duration": 2445,
    "start_time": "2024-08-12T19:06:54.543Z"
   },
   {
    "duration": 8,
    "start_time": "2024-08-12T19:07:15.041Z"
   },
   {
    "duration": 4,
    "start_time": "2024-08-12T19:10:06.053Z"
   },
   {
    "duration": 7,
    "start_time": "2024-08-12T19:10:21.109Z"
   },
   {
    "duration": 22,
    "start_time": "2024-08-12T19:12:27.738Z"
   },
   {
    "duration": 22,
    "start_time": "2024-08-12T19:12:58.762Z"
   },
   {
    "duration": 171,
    "start_time": "2024-08-12T19:15:17.012Z"
   },
   {
    "duration": 183,
    "start_time": "2024-08-12T19:15:41.380Z"
   },
   {
    "duration": 344,
    "start_time": "2024-08-12T19:16:29.196Z"
   },
   {
    "duration": 434,
    "start_time": "2024-08-12T19:18:26.489Z"
   },
   {
    "duration": 2494,
    "start_time": "2024-08-12T19:18:31.753Z"
   },
   {
    "duration": 1399,
    "start_time": "2024-08-12T19:21:01.895Z"
   },
   {
    "duration": 661,
    "start_time": "2024-08-12T19:21:38.327Z"
   },
   {
    "duration": 2425,
    "start_time": "2024-08-12T19:22:27.208Z"
   },
   {
    "duration": 8,
    "start_time": "2024-08-12T19:23:15.757Z"
   },
   {
    "duration": 488,
    "start_time": "2024-08-12T19:23:19.900Z"
   },
   {
    "duration": 543,
    "start_time": "2024-08-12T19:23:53.450Z"
   },
   {
    "duration": 701,
    "start_time": "2024-08-12T19:24:26.149Z"
   },
   {
    "duration": 638,
    "start_time": "2024-08-12T19:24:57.376Z"
   },
   {
    "duration": 658,
    "start_time": "2024-08-12T19:25:04.329Z"
   },
   {
    "duration": 754,
    "start_time": "2024-08-12T19:25:29.662Z"
   },
   {
    "duration": 614,
    "start_time": "2024-08-12T19:25:37.316Z"
   },
   {
    "duration": 657,
    "start_time": "2024-08-12T19:25:44.540Z"
   },
   {
    "duration": 472,
    "start_time": "2024-08-12T19:26:04.995Z"
   },
   {
    "duration": 834,
    "start_time": "2024-08-12T19:26:11.376Z"
   },
   {
    "duration": 76,
    "start_time": "2024-08-12T19:27:01.195Z"
   },
   {
    "duration": 110,
    "start_time": "2024-08-12T19:28:05.304Z"
   },
   {
    "duration": 116,
    "start_time": "2024-08-12T19:28:21.337Z"
   },
   {
    "duration": 109,
    "start_time": "2024-08-12T19:29:05.449Z"
   },
   {
    "duration": 106,
    "start_time": "2024-08-12T19:29:19.043Z"
   },
   {
    "duration": 120,
    "start_time": "2024-08-12T19:29:25.382Z"
   },
   {
    "duration": 107,
    "start_time": "2024-08-12T19:29:32.852Z"
   },
   {
    "duration": 115,
    "start_time": "2024-08-12T19:29:42.882Z"
   },
   {
    "duration": 42,
    "start_time": "2024-08-12T19:30:10.542Z"
   },
   {
    "duration": 27,
    "start_time": "2024-08-12T19:30:15.509Z"
   },
   {
    "duration": 9,
    "start_time": "2024-08-12T19:30:18.054Z"
   },
   {
    "duration": 301,
    "start_time": "2024-08-13T03:21:44.705Z"
   },
   {
    "duration": 6,
    "start_time": "2024-08-13T03:21:52.136Z"
   },
   {
    "duration": 4477,
    "start_time": "2024-08-13T03:21:52.146Z"
   },
   {
    "duration": 233,
    "start_time": "2024-08-13T03:21:56.626Z"
   },
   {
    "duration": 86,
    "start_time": "2024-08-13T03:21:56.863Z"
   },
   {
    "duration": 1299,
    "start_time": "2024-08-13T03:21:56.952Z"
   },
   {
    "duration": 14,
    "start_time": "2024-08-13T03:21:58.255Z"
   },
   {
    "duration": 13,
    "start_time": "2024-08-13T03:21:58.272Z"
   },
   {
    "duration": 209,
    "start_time": "2024-08-13T03:21:58.288Z"
   },
   {
    "duration": 30,
    "start_time": "2024-08-13T03:21:58.500Z"
   },
   {
    "duration": 190,
    "start_time": "2024-08-13T03:21:58.537Z"
   },
   {
    "duration": 179,
    "start_time": "2024-08-13T03:21:58.730Z"
   },
   {
    "duration": 54,
    "start_time": "2024-08-13T03:21:58.912Z"
   },
   {
    "duration": 26,
    "start_time": "2024-08-13T03:21:58.968Z"
   },
   {
    "duration": 37,
    "start_time": "2024-08-13T03:21:58.997Z"
   },
   {
    "duration": 44,
    "start_time": "2024-08-13T03:21:59.037Z"
   },
   {
    "duration": 52,
    "start_time": "2024-08-13T03:21:59.084Z"
   },
   {
    "duration": 165,
    "start_time": "2024-08-13T03:21:59.139Z"
   },
   {
    "duration": 7,
    "start_time": "2024-08-13T03:21:59.307Z"
   },
   {
    "duration": 21,
    "start_time": "2024-08-13T03:21:59.316Z"
   },
   {
    "duration": 10,
    "start_time": "2024-08-13T03:21:59.341Z"
   },
   {
    "duration": 1512,
    "start_time": "2024-08-13T03:21:59.355Z"
   },
   {
    "duration": 1299,
    "start_time": "2024-08-13T03:22:00.869Z"
   },
   {
    "duration": 12,
    "start_time": "2024-08-13T03:22:02.171Z"
   },
   {
    "duration": 15,
    "start_time": "2024-08-13T03:22:02.186Z"
   },
   {
    "duration": 38,
    "start_time": "2024-08-13T03:22:02.203Z"
   },
   {
    "duration": 13,
    "start_time": "2024-08-13T03:22:02.244Z"
   },
   {
    "duration": 10,
    "start_time": "2024-08-13T03:22:02.260Z"
   },
   {
    "duration": 8,
    "start_time": "2024-08-13T03:22:02.278Z"
   },
   {
    "duration": 52,
    "start_time": "2024-08-13T03:22:02.289Z"
   },
   {
    "duration": 24,
    "start_time": "2024-08-13T03:22:02.345Z"
   },
   {
    "duration": 61,
    "start_time": "2024-08-13T03:22:02.372Z"
   },
   {
    "duration": 796,
    "start_time": "2024-08-13T03:22:02.437Z"
   },
   {
    "duration": 123,
    "start_time": "2024-08-13T03:22:03.236Z"
   },
   {
    "duration": 4,
    "start_time": "2024-08-13T03:22:03.362Z"
   },
   {
    "duration": 73,
    "start_time": "2024-08-13T03:22:03.370Z"
   },
   {
    "duration": 8,
    "start_time": "2024-08-13T03:22:03.446Z"
   },
   {
    "duration": 8,
    "start_time": "2024-08-13T03:22:03.457Z"
   },
   {
    "duration": 597,
    "start_time": "2024-08-13T03:22:03.469Z"
   },
   {
    "duration": 410,
    "start_time": "2024-08-13T03:22:04.070Z"
   },
   {
    "duration": 420,
    "start_time": "2024-08-13T03:22:04.484Z"
   },
   {
    "duration": 0,
    "start_time": "2024-08-13T03:22:04.907Z"
   },
   {
    "duration": 0,
    "start_time": "2024-08-13T03:22:04.909Z"
   },
   {
    "duration": 0,
    "start_time": "2024-08-13T03:22:04.931Z"
   },
   {
    "duration": 0,
    "start_time": "2024-08-13T03:22:04.933Z"
   },
   {
    "duration": 0,
    "start_time": "2024-08-13T03:22:04.935Z"
   },
   {
    "duration": 0,
    "start_time": "2024-08-13T03:22:04.937Z"
   },
   {
    "duration": 0,
    "start_time": "2024-08-13T03:22:04.940Z"
   },
   {
    "duration": 0,
    "start_time": "2024-08-13T03:22:04.942Z"
   },
   {
    "duration": 0,
    "start_time": "2024-08-13T03:22:04.944Z"
   },
   {
    "duration": 0,
    "start_time": "2024-08-13T03:22:04.947Z"
   },
   {
    "duration": 0,
    "start_time": "2024-08-13T03:22:04.949Z"
   },
   {
    "duration": 0,
    "start_time": "2024-08-13T03:22:04.951Z"
   },
   {
    "duration": 0,
    "start_time": "2024-08-13T03:22:04.953Z"
   },
   {
    "duration": 0,
    "start_time": "2024-08-13T03:22:04.955Z"
   },
   {
    "duration": 0,
    "start_time": "2024-08-13T03:22:04.958Z"
   },
   {
    "duration": 10,
    "start_time": "2024-08-13T03:22:52.220Z"
   },
   {
    "duration": 11,
    "start_time": "2024-08-13T03:26:14.235Z"
   },
   {
    "duration": 9,
    "start_time": "2024-08-13T03:26:14.641Z"
   },
   {
    "duration": 226,
    "start_time": "2024-08-13T03:26:15.050Z"
   },
   {
    "duration": 262,
    "start_time": "2024-08-13T03:26:15.280Z"
   },
   {
    "duration": 392,
    "start_time": "2024-08-13T03:26:15.662Z"
   },
   {
    "duration": 434,
    "start_time": "2024-08-13T03:26:16.401Z"
   },
   {
    "duration": 2525,
    "start_time": "2024-08-13T03:26:17.178Z"
   },
   {
    "duration": 25,
    "start_time": "2024-08-13T03:26:19.708Z"
   },
   {
    "duration": 23,
    "start_time": "2024-08-13T03:26:19.737Z"
   },
   {
    "duration": 529,
    "start_time": "2024-08-13T03:26:19.764Z"
   },
   {
    "duration": 664,
    "start_time": "2024-08-13T03:26:20.297Z"
   },
   {
    "duration": 273,
    "start_time": "2024-08-13T03:26:20.964Z"
   },
   {
    "duration": 77,
    "start_time": "2024-08-13T03:26:21.402Z"
   },
   {
    "duration": 27,
    "start_time": "2024-08-13T03:26:21.600Z"
   },
   {
    "duration": 9,
    "start_time": "2024-08-13T03:26:21.799Z"
   },
   {
    "duration": 5,
    "start_time": "2024-08-13T03:30:42.850Z"
   },
   {
    "duration": 694,
    "start_time": "2024-08-13T03:30:42.859Z"
   },
   {
    "duration": 255,
    "start_time": "2024-08-13T03:30:43.557Z"
   },
   {
    "duration": 68,
    "start_time": "2024-08-13T03:30:43.815Z"
   },
   {
    "duration": 1293,
    "start_time": "2024-08-13T03:30:43.886Z"
   },
   {
    "duration": 9,
    "start_time": "2024-08-13T03:30:45.185Z"
   },
   {
    "duration": 33,
    "start_time": "2024-08-13T03:30:45.197Z"
   },
   {
    "duration": 195,
    "start_time": "2024-08-13T03:30:45.233Z"
   },
   {
    "duration": 14,
    "start_time": "2024-08-13T03:30:45.431Z"
   },
   {
    "duration": 201,
    "start_time": "2024-08-13T03:30:45.448Z"
   },
   {
    "duration": 170,
    "start_time": "2024-08-13T03:30:45.652Z"
   },
   {
    "duration": 49,
    "start_time": "2024-08-13T03:30:45.825Z"
   },
   {
    "duration": 23,
    "start_time": "2024-08-13T03:30:45.876Z"
   },
   {
    "duration": 34,
    "start_time": "2024-08-13T03:30:45.902Z"
   },
   {
    "duration": 45,
    "start_time": "2024-08-13T03:30:45.945Z"
   },
   {
    "duration": 59,
    "start_time": "2024-08-13T03:30:45.993Z"
   },
   {
    "duration": 169,
    "start_time": "2024-08-13T03:30:46.055Z"
   },
   {
    "duration": 7,
    "start_time": "2024-08-13T03:30:46.232Z"
   },
   {
    "duration": 12,
    "start_time": "2024-08-13T03:30:46.241Z"
   },
   {
    "duration": 10,
    "start_time": "2024-08-13T03:30:46.256Z"
   },
   {
    "duration": 1504,
    "start_time": "2024-08-13T03:30:46.270Z"
   },
   {
    "duration": 1286,
    "start_time": "2024-08-13T03:30:47.777Z"
   },
   {
    "duration": 11,
    "start_time": "2024-08-13T03:30:49.067Z"
   },
   {
    "duration": 15,
    "start_time": "2024-08-13T03:30:49.081Z"
   },
   {
    "duration": 11,
    "start_time": "2024-08-13T03:30:49.131Z"
   },
   {
    "duration": 13,
    "start_time": "2024-08-13T03:30:49.145Z"
   },
   {
    "duration": 9,
    "start_time": "2024-08-13T03:30:49.161Z"
   },
   {
    "duration": 8,
    "start_time": "2024-08-13T03:30:49.174Z"
   },
   {
    "duration": 10,
    "start_time": "2024-08-13T03:30:49.229Z"
   },
   {
    "duration": 23,
    "start_time": "2024-08-13T03:30:49.242Z"
   },
   {
    "duration": 28,
    "start_time": "2024-08-13T03:30:49.268Z"
   },
   {
    "duration": 793,
    "start_time": "2024-08-13T03:30:49.331Z"
   },
   {
    "duration": 121,
    "start_time": "2024-08-13T03:30:50.131Z"
   },
   {
    "duration": 5,
    "start_time": "2024-08-13T03:30:50.255Z"
   },
   {
    "duration": 76,
    "start_time": "2024-08-13T03:30:50.264Z"
   },
   {
    "duration": 8,
    "start_time": "2024-08-13T03:30:50.343Z"
   },
   {
    "duration": 9,
    "start_time": "2024-08-13T03:30:50.354Z"
   },
   {
    "duration": 595,
    "start_time": "2024-08-13T03:30:50.366Z"
   },
   {
    "duration": 415,
    "start_time": "2024-08-13T03:30:50.963Z"
   },
   {
    "duration": 375,
    "start_time": "2024-08-13T03:30:51.381Z"
   },
   {
    "duration": 0,
    "start_time": "2024-08-13T03:30:51.760Z"
   },
   {
    "duration": 0,
    "start_time": "2024-08-13T03:30:51.762Z"
   },
   {
    "duration": 0,
    "start_time": "2024-08-13T03:30:51.763Z"
   },
   {
    "duration": 0,
    "start_time": "2024-08-13T03:30:51.767Z"
   },
   {
    "duration": 0,
    "start_time": "2024-08-13T03:30:51.769Z"
   },
   {
    "duration": 0,
    "start_time": "2024-08-13T03:30:51.771Z"
   },
   {
    "duration": 0,
    "start_time": "2024-08-13T03:30:51.773Z"
   },
   {
    "duration": 0,
    "start_time": "2024-08-13T03:30:51.776Z"
   },
   {
    "duration": 0,
    "start_time": "2024-08-13T03:30:51.778Z"
   },
   {
    "duration": 0,
    "start_time": "2024-08-13T03:30:51.779Z"
   },
   {
    "duration": 0,
    "start_time": "2024-08-13T03:30:51.782Z"
   },
   {
    "duration": 0,
    "start_time": "2024-08-13T03:30:51.784Z"
   },
   {
    "duration": 0,
    "start_time": "2024-08-13T03:30:51.787Z"
   },
   {
    "duration": 0,
    "start_time": "2024-08-13T03:30:51.789Z"
   },
   {
    "duration": 0,
    "start_time": "2024-08-13T03:30:51.791Z"
   },
   {
    "duration": 5,
    "start_time": "2024-08-13T03:32:57.377Z"
   },
   {
    "duration": 712,
    "start_time": "2024-08-13T03:32:57.386Z"
   },
   {
    "duration": 288,
    "start_time": "2024-08-13T03:32:58.102Z"
   },
   {
    "duration": 64,
    "start_time": "2024-08-13T03:32:58.395Z"
   },
   {
    "duration": 1268,
    "start_time": "2024-08-13T03:32:58.462Z"
   },
   {
    "duration": 9,
    "start_time": "2024-08-13T03:32:59.734Z"
   },
   {
    "duration": 10,
    "start_time": "2024-08-13T03:32:59.746Z"
   },
   {
    "duration": 206,
    "start_time": "2024-08-13T03:32:59.759Z"
   },
   {
    "duration": 25,
    "start_time": "2024-08-13T03:32:59.968Z"
   },
   {
    "duration": 193,
    "start_time": "2024-08-13T03:32:59.999Z"
   },
   {
    "duration": 171,
    "start_time": "2024-08-13T03:33:00.195Z"
   },
   {
    "duration": 65,
    "start_time": "2024-08-13T03:33:00.371Z"
   },
   {
    "duration": 29,
    "start_time": "2024-08-13T03:33:00.443Z"
   },
   {
    "duration": 10,
    "start_time": "2024-08-13T03:33:00.474Z"
   },
   {
    "duration": 68,
    "start_time": "2024-08-13T03:33:00.486Z"
   },
   {
    "duration": 29,
    "start_time": "2024-08-13T03:33:00.557Z"
   },
   {
    "duration": 173,
    "start_time": "2024-08-13T03:33:00.589Z"
   },
   {
    "duration": 7,
    "start_time": "2024-08-13T03:33:00.765Z"
   },
   {
    "duration": 8,
    "start_time": "2024-08-13T03:33:00.775Z"
   },
   {
    "duration": 45,
    "start_time": "2024-08-13T03:33:00.786Z"
   },
   {
    "duration": 1486,
    "start_time": "2024-08-13T03:33:00.833Z"
   },
   {
    "duration": 1290,
    "start_time": "2024-08-13T03:33:02.322Z"
   },
   {
    "duration": 20,
    "start_time": "2024-08-13T03:33:03.615Z"
   },
   {
    "duration": 17,
    "start_time": "2024-08-13T03:33:03.638Z"
   },
   {
    "duration": 12,
    "start_time": "2024-08-13T03:33:03.658Z"
   },
   {
    "duration": 13,
    "start_time": "2024-08-13T03:33:03.672Z"
   },
   {
    "duration": 13,
    "start_time": "2024-08-13T03:33:03.733Z"
   },
   {
    "duration": 8,
    "start_time": "2024-08-13T03:33:03.756Z"
   },
   {
    "duration": 11,
    "start_time": "2024-08-13T03:33:03.767Z"
   },
   {
    "duration": 64,
    "start_time": "2024-08-13T03:33:03.781Z"
   },
   {
    "duration": 27,
    "start_time": "2024-08-13T03:33:03.848Z"
   },
   {
    "duration": 793,
    "start_time": "2024-08-13T03:33:03.877Z"
   },
   {
    "duration": 124,
    "start_time": "2024-08-13T03:33:04.673Z"
   },
   {
    "duration": 5,
    "start_time": "2024-08-13T03:33:04.800Z"
   },
   {
    "duration": 68,
    "start_time": "2024-08-13T03:33:04.808Z"
   },
   {
    "duration": 8,
    "start_time": "2024-08-13T03:33:04.878Z"
   },
   {
    "duration": 8,
    "start_time": "2024-08-13T03:33:04.889Z"
   },
   {
    "duration": 535,
    "start_time": "2024-08-13T03:33:04.931Z"
   },
   {
    "duration": 412,
    "start_time": "2024-08-13T03:33:05.469Z"
   },
   {
    "duration": 381,
    "start_time": "2024-08-13T03:33:05.884Z"
   },
   {
    "duration": 0,
    "start_time": "2024-08-13T03:33:06.268Z"
   },
   {
    "duration": 0,
    "start_time": "2024-08-13T03:33:06.270Z"
   },
   {
    "duration": 0,
    "start_time": "2024-08-13T03:33:06.273Z"
   },
   {
    "duration": 0,
    "start_time": "2024-08-13T03:33:06.275Z"
   },
   {
    "duration": 0,
    "start_time": "2024-08-13T03:33:06.277Z"
   },
   {
    "duration": 0,
    "start_time": "2024-08-13T03:33:06.279Z"
   },
   {
    "duration": 0,
    "start_time": "2024-08-13T03:33:06.281Z"
   },
   {
    "duration": 0,
    "start_time": "2024-08-13T03:33:06.283Z"
   },
   {
    "duration": 0,
    "start_time": "2024-08-13T03:33:06.286Z"
   },
   {
    "duration": 0,
    "start_time": "2024-08-13T03:33:06.289Z"
   },
   {
    "duration": 0,
    "start_time": "2024-08-13T03:33:06.291Z"
   },
   {
    "duration": 0,
    "start_time": "2024-08-13T03:33:06.332Z"
   },
   {
    "duration": 0,
    "start_time": "2024-08-13T03:33:06.335Z"
   },
   {
    "duration": 0,
    "start_time": "2024-08-13T03:33:06.337Z"
   },
   {
    "duration": 0,
    "start_time": "2024-08-13T03:33:06.339Z"
   },
   {
    "duration": 12,
    "start_time": "2024-08-13T03:33:18.488Z"
   },
   {
    "duration": 9,
    "start_time": "2024-08-13T03:33:18.848Z"
   },
   {
    "duration": 235,
    "start_time": "2024-08-13T03:33:19.030Z"
   },
   {
    "duration": 256,
    "start_time": "2024-08-13T03:33:19.269Z"
   },
   {
    "duration": 465,
    "start_time": "2024-08-13T03:33:19.616Z"
   },
   {
    "duration": 425,
    "start_time": "2024-08-13T03:33:20.390Z"
   },
   {
    "duration": 2569,
    "start_time": "2024-08-13T03:33:21.283Z"
   },
   {
    "duration": 8,
    "start_time": "2024-08-13T03:33:23.855Z"
   },
   {
    "duration": 23,
    "start_time": "2024-08-13T03:33:23.866Z"
   },
   {
    "duration": 544,
    "start_time": "2024-08-13T03:33:23.893Z"
   },
   {
    "duration": 671,
    "start_time": "2024-08-13T03:33:24.439Z"
   },
   {
    "duration": 175,
    "start_time": "2024-08-13T03:33:25.507Z"
   },
   {
    "duration": 84,
    "start_time": "2024-08-13T03:33:25.691Z"
   },
   {
    "duration": 28,
    "start_time": "2024-08-13T03:33:26.124Z"
   },
   {
    "duration": 9,
    "start_time": "2024-08-13T03:33:26.699Z"
   },
   {
    "duration": 341,
    "start_time": "2024-08-13T11:57:22.633Z"
   },
   {
    "duration": 4511,
    "start_time": "2024-08-13T11:57:33.185Z"
   },
   {
    "duration": 268,
    "start_time": "2024-08-13T11:57:37.700Z"
   },
   {
    "duration": 104,
    "start_time": "2024-08-13T11:57:52.781Z"
   },
   {
    "duration": 1382,
    "start_time": "2024-08-13T11:58:08.211Z"
   },
   {
    "duration": 23,
    "start_time": "2024-08-13T11:58:20.984Z"
   },
   {
    "duration": 22,
    "start_time": "2024-08-13T11:58:55.890Z"
   },
   {
    "duration": 4,
    "start_time": "2024-08-13T11:59:21.038Z"
   },
   {
    "duration": 225,
    "start_time": "2024-08-13T11:59:21.543Z"
   },
   {
    "duration": 75,
    "start_time": "2024-08-13T11:59:23.352Z"
   },
   {
    "duration": 1303,
    "start_time": "2024-08-13T11:59:24.705Z"
   },
   {
    "duration": 19,
    "start_time": "2024-08-13T11:59:26.210Z"
   },
   {
    "duration": 20,
    "start_time": "2024-08-13T11:59:27.335Z"
   },
   {
    "duration": 76,
    "start_time": "2024-08-13T12:02:13.882Z"
   },
   {
    "duration": 18,
    "start_time": "2024-08-13T12:02:26.379Z"
   },
   {
    "duration": 20,
    "start_time": "2024-08-13T12:02:55.832Z"
   },
   {
    "duration": 21,
    "start_time": "2024-08-13T12:03:01.523Z"
   },
   {
    "duration": 22,
    "start_time": "2024-08-13T12:03:02.027Z"
   },
   {
    "duration": 192,
    "start_time": "2024-08-13T12:03:06.099Z"
   },
   {
    "duration": 13,
    "start_time": "2024-08-13T12:03:06.819Z"
   },
   {
    "duration": 230,
    "start_time": "2024-08-13T12:03:07.026Z"
   },
   {
    "duration": 202,
    "start_time": "2024-08-13T12:03:07.401Z"
   },
   {
    "duration": 59,
    "start_time": "2024-08-13T12:03:07.630Z"
   },
   {
    "duration": 28,
    "start_time": "2024-08-13T12:03:09.259Z"
   },
   {
    "duration": 11,
    "start_time": "2024-08-13T12:03:09.605Z"
   },
   {
    "duration": 49,
    "start_time": "2024-08-13T12:03:10.242Z"
   },
   {
    "duration": 33,
    "start_time": "2024-08-13T12:03:12.922Z"
   },
   {
    "duration": 185,
    "start_time": "2024-08-13T12:03:13.891Z"
   },
   {
    "duration": 9,
    "start_time": "2024-08-13T12:03:14.233Z"
   },
   {
    "duration": 8,
    "start_time": "2024-08-13T12:03:15.261Z"
   },
   {
    "duration": 12,
    "start_time": "2024-08-13T12:03:15.777Z"
   },
   {
    "duration": 1664,
    "start_time": "2024-08-13T12:03:17.474Z"
   },
   {
    "duration": 1498,
    "start_time": "2024-08-13T12:03:19.142Z"
   },
   {
    "duration": 14,
    "start_time": "2024-08-13T12:03:20.644Z"
   },
   {
    "duration": 39,
    "start_time": "2024-08-13T12:03:20.661Z"
   },
   {
    "duration": 14,
    "start_time": "2024-08-13T12:03:20.704Z"
   },
   {
    "duration": 13,
    "start_time": "2024-08-13T12:03:21.217Z"
   },
   {
    "duration": 11,
    "start_time": "2024-08-13T12:03:21.616Z"
   },
   {
    "duration": 39,
    "start_time": "2024-08-13T12:04:53.941Z"
   },
   {
    "duration": 88,
    "start_time": "2024-08-13T12:05:04.362Z"
   },
   {
    "duration": 32,
    "start_time": "2024-08-13T12:08:22.425Z"
   },
   {
    "duration": 36,
    "start_time": "2024-08-13T12:08:36.633Z"
   },
   {
    "duration": 320,
    "start_time": "2024-08-13T12:09:43.171Z"
   }
  ],
  "kernelspec": {
   "display_name": "Python 3 (ipykernel)",
   "language": "python",
   "name": "python3"
  },
  "language_info": {
   "codemirror_mode": {
    "name": "ipython",
    "version": 3
   },
   "file_extension": ".py",
   "mimetype": "text/x-python",
   "name": "python",
   "nbconvert_exporter": "python",
   "pygments_lexer": "ipython3",
   "version": "3.9.19"
  },
  "toc": {
   "base_numbering": 1,
   "nav_menu": {},
   "number_sections": true,
   "sideBar": true,
   "skip_h1_title": true,
   "title_cell": "Table of Contents",
   "title_sidebar": "Contents",
   "toc_cell": false,
   "toc_position": {},
   "toc_section_display": true,
   "toc_window_display": false
  },
  "vscode": {
   "interpreter": {
    "hash": "01a7be9ec63e704a62cefc5fe7a4756944464ee731be31632bdf42a4cb4688cf"
   }
  }
 },
 "nbformat": 4,
 "nbformat_minor": 5
}
